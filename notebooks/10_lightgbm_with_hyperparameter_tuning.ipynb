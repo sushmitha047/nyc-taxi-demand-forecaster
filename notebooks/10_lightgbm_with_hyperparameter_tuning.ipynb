{
 "cells": [
  {
   "cell_type": "code",
   "execution_count": 1,
   "metadata": {},
   "outputs": [],
   "source": [
    "import warnings\n",
    "warnings.filterwarnings(\"ignore\")"
   ]
  },
  {
   "cell_type": "code",
   "execution_count": 2,
   "metadata": {},
   "outputs": [
    {
     "data": {
      "text/html": [
       "<div>\n",
       "<style scoped>\n",
       "    .dataframe tbody tr th:only-of-type {\n",
       "        vertical-align: middle;\n",
       "    }\n",
       "\n",
       "    .dataframe tbody tr th {\n",
       "        vertical-align: top;\n",
       "    }\n",
       "\n",
       "    .dataframe thead th {\n",
       "        text-align: right;\n",
       "    }\n",
       "</style>\n",
       "<table border=\"1\" class=\"dataframe\">\n",
       "  <thead>\n",
       "    <tr style=\"text-align: right;\">\n",
       "      <th></th>\n",
       "      <th>rides_previous_672_hour</th>\n",
       "      <th>rides_previous_671_hour</th>\n",
       "      <th>rides_previous_670_hour</th>\n",
       "      <th>rides_previous_669_hour</th>\n",
       "      <th>rides_previous_668_hour</th>\n",
       "      <th>rides_previous_667_hour</th>\n",
       "      <th>rides_previous_666_hour</th>\n",
       "      <th>rides_previous_665_hour</th>\n",
       "      <th>rides_previous_664_hour</th>\n",
       "      <th>rides_previous_663_hour</th>\n",
       "      <th>...</th>\n",
       "      <th>rides_previous_7_hour</th>\n",
       "      <th>rides_previous_6_hour</th>\n",
       "      <th>rides_previous_5_hour</th>\n",
       "      <th>rides_previous_4_hour</th>\n",
       "      <th>rides_previous_3_hour</th>\n",
       "      <th>rides_previous_2_hour</th>\n",
       "      <th>rides_previous_1_hour</th>\n",
       "      <th>pickup_hour</th>\n",
       "      <th>pickup_location_id</th>\n",
       "      <th>target_rides_next_hour</th>\n",
       "    </tr>\n",
       "  </thead>\n",
       "  <tbody>\n",
       "    <tr>\n",
       "      <th>0</th>\n",
       "      <td>25.0</td>\n",
       "      <td>29.0</td>\n",
       "      <td>34.0</td>\n",
       "      <td>31.0</td>\n",
       "      <td>32.0</td>\n",
       "      <td>8.0</td>\n",
       "      <td>6.0</td>\n",
       "      <td>4.0</td>\n",
       "      <td>0.0</td>\n",
       "      <td>1.0</td>\n",
       "      <td>...</td>\n",
       "      <td>0.0</td>\n",
       "      <td>6.0</td>\n",
       "      <td>5.0</td>\n",
       "      <td>1.0</td>\n",
       "      <td>4.0</td>\n",
       "      <td>2.0</td>\n",
       "      <td>2.0</td>\n",
       "      <td>2024-01-29</td>\n",
       "      <td>4</td>\n",
       "      <td>0.0</td>\n",
       "    </tr>\n",
       "    <tr>\n",
       "      <th>1</th>\n",
       "      <td>1.0</td>\n",
       "      <td>2.0</td>\n",
       "      <td>1.0</td>\n",
       "      <td>0.0</td>\n",
       "      <td>0.0</td>\n",
       "      <td>1.0</td>\n",
       "      <td>0.0</td>\n",
       "      <td>3.0</td>\n",
       "      <td>6.0</td>\n",
       "      <td>3.0</td>\n",
       "      <td>...</td>\n",
       "      <td>0.0</td>\n",
       "      <td>0.0</td>\n",
       "      <td>0.0</td>\n",
       "      <td>0.0</td>\n",
       "      <td>1.0</td>\n",
       "      <td>1.0</td>\n",
       "      <td>1.0</td>\n",
       "      <td>2024-01-30</td>\n",
       "      <td>4</td>\n",
       "      <td>1.0</td>\n",
       "    </tr>\n",
       "    <tr>\n",
       "      <th>2</th>\n",
       "      <td>0.0</td>\n",
       "      <td>0.0</td>\n",
       "      <td>0.0</td>\n",
       "      <td>1.0</td>\n",
       "      <td>0.0</td>\n",
       "      <td>0.0</td>\n",
       "      <td>1.0</td>\n",
       "      <td>2.0</td>\n",
       "      <td>4.0</td>\n",
       "      <td>5.0</td>\n",
       "      <td>...</td>\n",
       "      <td>1.0</td>\n",
       "      <td>0.0</td>\n",
       "      <td>1.0</td>\n",
       "      <td>4.0</td>\n",
       "      <td>1.0</td>\n",
       "      <td>4.0</td>\n",
       "      <td>6.0</td>\n",
       "      <td>2024-01-31</td>\n",
       "      <td>4</td>\n",
       "      <td>2.0</td>\n",
       "    </tr>\n",
       "    <tr>\n",
       "      <th>3</th>\n",
       "      <td>1.0</td>\n",
       "      <td>1.0</td>\n",
       "      <td>2.0</td>\n",
       "      <td>1.0</td>\n",
       "      <td>0.0</td>\n",
       "      <td>1.0</td>\n",
       "      <td>1.0</td>\n",
       "      <td>3.0</td>\n",
       "      <td>2.0</td>\n",
       "      <td>1.0</td>\n",
       "      <td>...</td>\n",
       "      <td>3.0</td>\n",
       "      <td>3.0</td>\n",
       "      <td>3.0</td>\n",
       "      <td>1.0</td>\n",
       "      <td>5.0</td>\n",
       "      <td>3.0</td>\n",
       "      <td>0.0</td>\n",
       "      <td>2024-02-01</td>\n",
       "      <td>4</td>\n",
       "      <td>5.0</td>\n",
       "    </tr>\n",
       "    <tr>\n",
       "      <th>4</th>\n",
       "      <td>2.0</td>\n",
       "      <td>4.0</td>\n",
       "      <td>1.0</td>\n",
       "      <td>1.0</td>\n",
       "      <td>0.0</td>\n",
       "      <td>0.0</td>\n",
       "      <td>0.0</td>\n",
       "      <td>1.0</td>\n",
       "      <td>3.0</td>\n",
       "      <td>1.0</td>\n",
       "      <td>...</td>\n",
       "      <td>2.0</td>\n",
       "      <td>2.0</td>\n",
       "      <td>2.0</td>\n",
       "      <td>4.0</td>\n",
       "      <td>4.0</td>\n",
       "      <td>12.0</td>\n",
       "      <td>7.0</td>\n",
       "      <td>2024-02-02</td>\n",
       "      <td>4</td>\n",
       "      <td>10.0</td>\n",
       "    </tr>\n",
       "    <tr>\n",
       "      <th>...</th>\n",
       "      <td>...</td>\n",
       "      <td>...</td>\n",
       "      <td>...</td>\n",
       "      <td>...</td>\n",
       "      <td>...</td>\n",
       "      <td>...</td>\n",
       "      <td>...</td>\n",
       "      <td>...</td>\n",
       "      <td>...</td>\n",
       "      <td>...</td>\n",
       "      <td>...</td>\n",
       "      <td>...</td>\n",
       "      <td>...</td>\n",
       "      <td>...</td>\n",
       "      <td>...</td>\n",
       "      <td>...</td>\n",
       "      <td>...</td>\n",
       "      <td>...</td>\n",
       "      <td>...</td>\n",
       "      <td>...</td>\n",
       "      <td>...</td>\n",
       "    </tr>\n",
       "    <tr>\n",
       "      <th>80736</th>\n",
       "      <td>0.0</td>\n",
       "      <td>0.0</td>\n",
       "      <td>0.0</td>\n",
       "      <td>0.0</td>\n",
       "      <td>0.0</td>\n",
       "      <td>0.0</td>\n",
       "      <td>0.0</td>\n",
       "      <td>0.0</td>\n",
       "      <td>0.0</td>\n",
       "      <td>0.0</td>\n",
       "      <td>...</td>\n",
       "      <td>0.0</td>\n",
       "      <td>0.0</td>\n",
       "      <td>0.0</td>\n",
       "      <td>0.0</td>\n",
       "      <td>0.0</td>\n",
       "      <td>0.0</td>\n",
       "      <td>0.0</td>\n",
       "      <td>2024-11-26</td>\n",
       "      <td>110</td>\n",
       "      <td>0.0</td>\n",
       "    </tr>\n",
       "    <tr>\n",
       "      <th>80737</th>\n",
       "      <td>0.0</td>\n",
       "      <td>0.0</td>\n",
       "      <td>0.0</td>\n",
       "      <td>0.0</td>\n",
       "      <td>0.0</td>\n",
       "      <td>0.0</td>\n",
       "      <td>0.0</td>\n",
       "      <td>0.0</td>\n",
       "      <td>0.0</td>\n",
       "      <td>0.0</td>\n",
       "      <td>...</td>\n",
       "      <td>0.0</td>\n",
       "      <td>0.0</td>\n",
       "      <td>0.0</td>\n",
       "      <td>0.0</td>\n",
       "      <td>0.0</td>\n",
       "      <td>0.0</td>\n",
       "      <td>0.0</td>\n",
       "      <td>2024-11-27</td>\n",
       "      <td>110</td>\n",
       "      <td>0.0</td>\n",
       "    </tr>\n",
       "    <tr>\n",
       "      <th>80738</th>\n",
       "      <td>0.0</td>\n",
       "      <td>0.0</td>\n",
       "      <td>0.0</td>\n",
       "      <td>0.0</td>\n",
       "      <td>0.0</td>\n",
       "      <td>0.0</td>\n",
       "      <td>0.0</td>\n",
       "      <td>0.0</td>\n",
       "      <td>0.0</td>\n",
       "      <td>0.0</td>\n",
       "      <td>...</td>\n",
       "      <td>0.0</td>\n",
       "      <td>0.0</td>\n",
       "      <td>0.0</td>\n",
       "      <td>0.0</td>\n",
       "      <td>0.0</td>\n",
       "      <td>0.0</td>\n",
       "      <td>0.0</td>\n",
       "      <td>2024-11-28</td>\n",
       "      <td>110</td>\n",
       "      <td>0.0</td>\n",
       "    </tr>\n",
       "    <tr>\n",
       "      <th>80739</th>\n",
       "      <td>0.0</td>\n",
       "      <td>0.0</td>\n",
       "      <td>0.0</td>\n",
       "      <td>0.0</td>\n",
       "      <td>0.0</td>\n",
       "      <td>0.0</td>\n",
       "      <td>0.0</td>\n",
       "      <td>0.0</td>\n",
       "      <td>0.0</td>\n",
       "      <td>0.0</td>\n",
       "      <td>...</td>\n",
       "      <td>0.0</td>\n",
       "      <td>0.0</td>\n",
       "      <td>0.0</td>\n",
       "      <td>0.0</td>\n",
       "      <td>0.0</td>\n",
       "      <td>0.0</td>\n",
       "      <td>0.0</td>\n",
       "      <td>2024-11-29</td>\n",
       "      <td>110</td>\n",
       "      <td>0.0</td>\n",
       "    </tr>\n",
       "    <tr>\n",
       "      <th>80740</th>\n",
       "      <td>0.0</td>\n",
       "      <td>0.0</td>\n",
       "      <td>0.0</td>\n",
       "      <td>0.0</td>\n",
       "      <td>0.0</td>\n",
       "      <td>0.0</td>\n",
       "      <td>0.0</td>\n",
       "      <td>0.0</td>\n",
       "      <td>0.0</td>\n",
       "      <td>0.0</td>\n",
       "      <td>...</td>\n",
       "      <td>0.0</td>\n",
       "      <td>0.0</td>\n",
       "      <td>0.0</td>\n",
       "      <td>0.0</td>\n",
       "      <td>0.0</td>\n",
       "      <td>0.0</td>\n",
       "      <td>0.0</td>\n",
       "      <td>2024-11-30</td>\n",
       "      <td>110</td>\n",
       "      <td>0.0</td>\n",
       "    </tr>\n",
       "  </tbody>\n",
       "</table>\n",
       "<p>80741 rows × 675 columns</p>\n",
       "</div>"
      ],
      "text/plain": [
       "       rides_previous_672_hour  rides_previous_671_hour  \\\n",
       "0                         25.0                     29.0   \n",
       "1                          1.0                      2.0   \n",
       "2                          0.0                      0.0   \n",
       "3                          1.0                      1.0   \n",
       "4                          2.0                      4.0   \n",
       "...                        ...                      ...   \n",
       "80736                      0.0                      0.0   \n",
       "80737                      0.0                      0.0   \n",
       "80738                      0.0                      0.0   \n",
       "80739                      0.0                      0.0   \n",
       "80740                      0.0                      0.0   \n",
       "\n",
       "       rides_previous_670_hour  rides_previous_669_hour  \\\n",
       "0                         34.0                     31.0   \n",
       "1                          1.0                      0.0   \n",
       "2                          0.0                      1.0   \n",
       "3                          2.0                      1.0   \n",
       "4                          1.0                      1.0   \n",
       "...                        ...                      ...   \n",
       "80736                      0.0                      0.0   \n",
       "80737                      0.0                      0.0   \n",
       "80738                      0.0                      0.0   \n",
       "80739                      0.0                      0.0   \n",
       "80740                      0.0                      0.0   \n",
       "\n",
       "       rides_previous_668_hour  rides_previous_667_hour  \\\n",
       "0                         32.0                      8.0   \n",
       "1                          0.0                      1.0   \n",
       "2                          0.0                      0.0   \n",
       "3                          0.0                      1.0   \n",
       "4                          0.0                      0.0   \n",
       "...                        ...                      ...   \n",
       "80736                      0.0                      0.0   \n",
       "80737                      0.0                      0.0   \n",
       "80738                      0.0                      0.0   \n",
       "80739                      0.0                      0.0   \n",
       "80740                      0.0                      0.0   \n",
       "\n",
       "       rides_previous_666_hour  rides_previous_665_hour  \\\n",
       "0                          6.0                      4.0   \n",
       "1                          0.0                      3.0   \n",
       "2                          1.0                      2.0   \n",
       "3                          1.0                      3.0   \n",
       "4                          0.0                      1.0   \n",
       "...                        ...                      ...   \n",
       "80736                      0.0                      0.0   \n",
       "80737                      0.0                      0.0   \n",
       "80738                      0.0                      0.0   \n",
       "80739                      0.0                      0.0   \n",
       "80740                      0.0                      0.0   \n",
       "\n",
       "       rides_previous_664_hour  rides_previous_663_hour  ...  \\\n",
       "0                          0.0                      1.0  ...   \n",
       "1                          6.0                      3.0  ...   \n",
       "2                          4.0                      5.0  ...   \n",
       "3                          2.0                      1.0  ...   \n",
       "4                          3.0                      1.0  ...   \n",
       "...                        ...                      ...  ...   \n",
       "80736                      0.0                      0.0  ...   \n",
       "80737                      0.0                      0.0  ...   \n",
       "80738                      0.0                      0.0  ...   \n",
       "80739                      0.0                      0.0  ...   \n",
       "80740                      0.0                      0.0  ...   \n",
       "\n",
       "       rides_previous_7_hour  rides_previous_6_hour  rides_previous_5_hour  \\\n",
       "0                        0.0                    6.0                    5.0   \n",
       "1                        0.0                    0.0                    0.0   \n",
       "2                        1.0                    0.0                    1.0   \n",
       "3                        3.0                    3.0                    3.0   \n",
       "4                        2.0                    2.0                    2.0   \n",
       "...                      ...                    ...                    ...   \n",
       "80736                    0.0                    0.0                    0.0   \n",
       "80737                    0.0                    0.0                    0.0   \n",
       "80738                    0.0                    0.0                    0.0   \n",
       "80739                    0.0                    0.0                    0.0   \n",
       "80740                    0.0                    0.0                    0.0   \n",
       "\n",
       "       rides_previous_4_hour  rides_previous_3_hour  rides_previous_2_hour  \\\n",
       "0                        1.0                    4.0                    2.0   \n",
       "1                        0.0                    1.0                    1.0   \n",
       "2                        4.0                    1.0                    4.0   \n",
       "3                        1.0                    5.0                    3.0   \n",
       "4                        4.0                    4.0                   12.0   \n",
       "...                      ...                    ...                    ...   \n",
       "80736                    0.0                    0.0                    0.0   \n",
       "80737                    0.0                    0.0                    0.0   \n",
       "80738                    0.0                    0.0                    0.0   \n",
       "80739                    0.0                    0.0                    0.0   \n",
       "80740                    0.0                    0.0                    0.0   \n",
       "\n",
       "       rides_previous_1_hour  pickup_hour  pickup_location_id  \\\n",
       "0                        2.0   2024-01-29                   4   \n",
       "1                        1.0   2024-01-30                   4   \n",
       "2                        6.0   2024-01-31                   4   \n",
       "3                        0.0   2024-02-01                   4   \n",
       "4                        7.0   2024-02-02                   4   \n",
       "...                      ...          ...                 ...   \n",
       "80736                    0.0   2024-11-26                 110   \n",
       "80737                    0.0   2024-11-27                 110   \n",
       "80738                    0.0   2024-11-28                 110   \n",
       "80739                    0.0   2024-11-29                 110   \n",
       "80740                    0.0   2024-11-30                 110   \n",
       "\n",
       "       target_rides_next_hour  \n",
       "0                         0.0  \n",
       "1                         1.0  \n",
       "2                         2.0  \n",
       "3                         5.0  \n",
       "4                        10.0  \n",
       "...                       ...  \n",
       "80736                     0.0  \n",
       "80737                     0.0  \n",
       "80738                     0.0  \n",
       "80739                     0.0  \n",
       "80740                     0.0  \n",
       "\n",
       "[80741 rows x 675 columns]"
      ]
     },
     "execution_count": 2,
     "metadata": {},
     "output_type": "execute_result"
    }
   ],
   "source": [
    "import pandas as pd\n",
    "from src.paths import TRANSFORMED_DATA_DIR\n",
    "\n",
    "df = pd.read_parquet(TRANSFORMED_DATA_DIR / 'final_data.parquet')\n",
    "df"
   ]
  },
  {
   "cell_type": "code",
   "execution_count": 3,
   "metadata": {},
   "outputs": [],
   "source": [
    "from src.data_split import train_test_split\n",
    "from datetime import datetime\n",
    "\n",
    "X_train, y_train, X_test, y_test = train_test_split(\n",
    "    df,\n",
    "    cutoff_date=datetime(2024, 8, 1, 0, 0, 0),\n",
    "    target_column_name=\"target_rides_next_hour\"\n",
    ")"
   ]
  },
  {
   "cell_type": "code",
   "execution_count": 4,
   "metadata": {},
   "outputs": [
    {
     "name": "stdout",
     "output_type": "stream",
     "text": [
      "X_train.shape=(48655, 674)\n",
      "y_train.shape=(48655,)\n",
      "X_test.shape=(32086, 674)\n",
      "y_test.shape=(32086,)\n"
     ]
    }
   ],
   "source": [
    "print(f\"{X_train.shape=}\")\n",
    "print(f\"{y_train.shape=}\")\n",
    "print(f\"{X_test.shape=}\")\n",
    "print(f\"{y_test.shape=}\")"
   ]
  },
  {
   "cell_type": "code",
   "execution_count": 6,
   "metadata": {},
   "outputs": [],
   "source": [
    "from src.model import get_pipeline\n",
    "from sklearn.model_selection import TimeSeriesSplit\n",
    "from sklearn.metrics import mean_absolute_error\n",
    "import numpy as np\n",
    "\n",
    "import optuna\n",
    "def objective(trial: optuna.trial.Trial) -> float:\n",
    "    \"\"\"\n",
    "    Given a set of hyper-parameters, it trains a model and computes an average validation error based on a TimeSeriesSplit\n",
    "    \"\"\"\n",
    "\n",
    "    # pick hyper-parameters\n",
    "    hyperparams = {\n",
    "        \"metric\": \"mae\",\n",
    "        \"verbose\": -1,\n",
    "        \"num_leaves\": trial.suggest_int(\"num_leaves\", 2, 256),\n",
    "        \"feature_fraction\": trial.suggest_float(\"feature_fraction\", 0.2, 1.0),\n",
    "        \"bagging_fraction\": trial.suggest_float(\"bagging_fraction\", 0.2, 1.0),\n",
    "        \"min_child_samples\": trial.suggest_int(\"min_child_samples\", 3, 100),\n",
    "    }\n",
    "\n",
    "    tss = TimeSeriesSplit(n_splits=4)\n",
    "    scores = []\n",
    "    for train_index, val_index in tss.split(X_train):\n",
    "\n",
    "        # split data for training and validation\n",
    "        X_train_, X_val_ = X_train.iloc[train_index, :], X_train.iloc[val_index,:]\n",
    "        y_train_, y_val_ = y_train.iloc[train_index], y_train.iloc[val_index]\n",
    "\n",
    "        # train the model\n",
    "        pipeline = get_pipeline(**hyperparams)\n",
    "        pipeline.fit(X_train_, y_train_)\n",
    "\n",
    "        # evaluate the model\n",
    "        y_pred = pipeline.predict(X_val_)\n",
    "        mae = mean_absolute_error(y_val_, y_pred)\n",
    "\n",
    "        scores.append(mae)\n",
    "\n",
    "    \n",
    "    # return the mean score\n",
    "    return np.array(scores).mean()"
   ]
  },
  {
   "cell_type": "code",
   "execution_count": 7,
   "metadata": {},
   "outputs": [
    {
     "name": "stderr",
     "output_type": "stream",
     "text": [
      "[I 2025-01-25 15:45:20,169] A new study created in memory with name: no-name-e8d006f0-fb02-474d-856e-7fc3f1157436\n",
      "[I 2025-01-25 15:45:26,508] Trial 0 finished with value: 3.8896039692475117 and parameters: {'num_leaves': 13, 'feature_fraction': 0.31790628834771123, 'bagging_fraction': 0.8460308791831658, 'min_child_samples': 79}. Best is trial 0 with value: 3.8896039692475117.\n",
      "[I 2025-01-25 15:45:45,486] Trial 1 finished with value: 3.9423664725363206 and parameters: {'num_leaves': 152, 'feature_fraction': 0.22000396902953467, 'bagging_fraction': 0.543911408980104, 'min_child_samples': 87}. Best is trial 0 with value: 3.8896039692475117.\n",
      "[I 2025-01-25 15:46:10,423] Trial 2 finished with value: 3.4709888997785097 and parameters: {'num_leaves': 162, 'feature_fraction': 0.747796136261423, 'bagging_fraction': 0.7124241506239087, 'min_child_samples': 64}. Best is trial 2 with value: 3.4709888997785097.\n",
      "[I 2025-01-25 15:46:48,291] Trial 3 finished with value: 3.433419431984345 and parameters: {'num_leaves': 247, 'feature_fraction': 0.9134737957882902, 'bagging_fraction': 0.4311972086570697, 'min_child_samples': 50}. Best is trial 3 with value: 3.433419431984345.\n",
      "[I 2025-01-25 15:47:19,583] Trial 4 finished with value: 3.265100947073127 and parameters: {'num_leaves': 214, 'feature_fraction': 0.3862377279974252, 'bagging_fraction': 0.41096457468391273, 'min_child_samples': 42}. Best is trial 4 with value: 3.265100947073127.\n"
     ]
    }
   ],
   "source": [
    "study = optuna.create_study(direction=\"minimize\") # minimize the mean mae score\n",
    "study.optimize(objective, n_trials=5)"
   ]
  },
  {
   "cell_type": "code",
   "execution_count": 8,
   "metadata": {},
   "outputs": [
    {
     "name": "stdout",
     "output_type": "stream",
     "text": [
      "best_params={'num_leaves': 214, 'feature_fraction': 0.3862377279974252, 'bagging_fraction': 0.41096457468391273, 'min_child_samples': 42}\n"
     ]
    }
   ],
   "source": [
    "best_params = study.best_trial.params\n",
    "print(f\"{best_params=}\")"
   ]
  },
  {
   "cell_type": "markdown",
   "metadata": {},
   "source": [
    "#### Once we find the best parameter, re train the model with entire train data from the initial dataset"
   ]
  },
  {
   "cell_type": "code",
   "execution_count": 9,
   "metadata": {},
   "outputs": [
    {
     "data": {
      "text/html": [
       "<style>#sk-container-id-1 {\n",
       "  /* Definition of color scheme common for light and dark mode */\n",
       "  --sklearn-color-text: black;\n",
       "  --sklearn-color-line: gray;\n",
       "  /* Definition of color scheme for unfitted estimators */\n",
       "  --sklearn-color-unfitted-level-0: #fff5e6;\n",
       "  --sklearn-color-unfitted-level-1: #f6e4d2;\n",
       "  --sklearn-color-unfitted-level-2: #ffe0b3;\n",
       "  --sklearn-color-unfitted-level-3: chocolate;\n",
       "  /* Definition of color scheme for fitted estimators */\n",
       "  --sklearn-color-fitted-level-0: #f0f8ff;\n",
       "  --sklearn-color-fitted-level-1: #d4ebff;\n",
       "  --sklearn-color-fitted-level-2: #b3dbfd;\n",
       "  --sklearn-color-fitted-level-3: cornflowerblue;\n",
       "\n",
       "  /* Specific color for light theme */\n",
       "  --sklearn-color-text-on-default-background: var(--sg-text-color, var(--theme-code-foreground, var(--jp-content-font-color1, black)));\n",
       "  --sklearn-color-background: var(--sg-background-color, var(--theme-background, var(--jp-layout-color0, white)));\n",
       "  --sklearn-color-border-box: var(--sg-text-color, var(--theme-code-foreground, var(--jp-content-font-color1, black)));\n",
       "  --sklearn-color-icon: #696969;\n",
       "\n",
       "  @media (prefers-color-scheme: dark) {\n",
       "    /* Redefinition of color scheme for dark theme */\n",
       "    --sklearn-color-text-on-default-background: var(--sg-text-color, var(--theme-code-foreground, var(--jp-content-font-color1, white)));\n",
       "    --sklearn-color-background: var(--sg-background-color, var(--theme-background, var(--jp-layout-color0, #111)));\n",
       "    --sklearn-color-border-box: var(--sg-text-color, var(--theme-code-foreground, var(--jp-content-font-color1, white)));\n",
       "    --sklearn-color-icon: #878787;\n",
       "  }\n",
       "}\n",
       "\n",
       "#sk-container-id-1 {\n",
       "  color: var(--sklearn-color-text);\n",
       "}\n",
       "\n",
       "#sk-container-id-1 pre {\n",
       "  padding: 0;\n",
       "}\n",
       "\n",
       "#sk-container-id-1 input.sk-hidden--visually {\n",
       "  border: 0;\n",
       "  clip: rect(1px 1px 1px 1px);\n",
       "  clip: rect(1px, 1px, 1px, 1px);\n",
       "  height: 1px;\n",
       "  margin: -1px;\n",
       "  overflow: hidden;\n",
       "  padding: 0;\n",
       "  position: absolute;\n",
       "  width: 1px;\n",
       "}\n",
       "\n",
       "#sk-container-id-1 div.sk-dashed-wrapped {\n",
       "  border: 1px dashed var(--sklearn-color-line);\n",
       "  margin: 0 0.4em 0.5em 0.4em;\n",
       "  box-sizing: border-box;\n",
       "  padding-bottom: 0.4em;\n",
       "  background-color: var(--sklearn-color-background);\n",
       "}\n",
       "\n",
       "#sk-container-id-1 div.sk-container {\n",
       "  /* jupyter's `normalize.less` sets `[hidden] { display: none; }`\n",
       "     but bootstrap.min.css set `[hidden] { display: none !important; }`\n",
       "     so we also need the `!important` here to be able to override the\n",
       "     default hidden behavior on the sphinx rendered scikit-learn.org.\n",
       "     See: https://github.com/scikit-learn/scikit-learn/issues/21755 */\n",
       "  display: inline-block !important;\n",
       "  position: relative;\n",
       "}\n",
       "\n",
       "#sk-container-id-1 div.sk-text-repr-fallback {\n",
       "  display: none;\n",
       "}\n",
       "\n",
       "div.sk-parallel-item,\n",
       "div.sk-serial,\n",
       "div.sk-item {\n",
       "  /* draw centered vertical line to link estimators */\n",
       "  background-image: linear-gradient(var(--sklearn-color-text-on-default-background), var(--sklearn-color-text-on-default-background));\n",
       "  background-size: 2px 100%;\n",
       "  background-repeat: no-repeat;\n",
       "  background-position: center center;\n",
       "}\n",
       "\n",
       "/* Parallel-specific style estimator block */\n",
       "\n",
       "#sk-container-id-1 div.sk-parallel-item::after {\n",
       "  content: \"\";\n",
       "  width: 100%;\n",
       "  border-bottom: 2px solid var(--sklearn-color-text-on-default-background);\n",
       "  flex-grow: 1;\n",
       "}\n",
       "\n",
       "#sk-container-id-1 div.sk-parallel {\n",
       "  display: flex;\n",
       "  align-items: stretch;\n",
       "  justify-content: center;\n",
       "  background-color: var(--sklearn-color-background);\n",
       "  position: relative;\n",
       "}\n",
       "\n",
       "#sk-container-id-1 div.sk-parallel-item {\n",
       "  display: flex;\n",
       "  flex-direction: column;\n",
       "}\n",
       "\n",
       "#sk-container-id-1 div.sk-parallel-item:first-child::after {\n",
       "  align-self: flex-end;\n",
       "  width: 50%;\n",
       "}\n",
       "\n",
       "#sk-container-id-1 div.sk-parallel-item:last-child::after {\n",
       "  align-self: flex-start;\n",
       "  width: 50%;\n",
       "}\n",
       "\n",
       "#sk-container-id-1 div.sk-parallel-item:only-child::after {\n",
       "  width: 0;\n",
       "}\n",
       "\n",
       "/* Serial-specific style estimator block */\n",
       "\n",
       "#sk-container-id-1 div.sk-serial {\n",
       "  display: flex;\n",
       "  flex-direction: column;\n",
       "  align-items: center;\n",
       "  background-color: var(--sklearn-color-background);\n",
       "  padding-right: 1em;\n",
       "  padding-left: 1em;\n",
       "}\n",
       "\n",
       "\n",
       "/* Toggleable style: style used for estimator/Pipeline/ColumnTransformer box that is\n",
       "clickable and can be expanded/collapsed.\n",
       "- Pipeline and ColumnTransformer use this feature and define the default style\n",
       "- Estimators will overwrite some part of the style using the `sk-estimator` class\n",
       "*/\n",
       "\n",
       "/* Pipeline and ColumnTransformer style (default) */\n",
       "\n",
       "#sk-container-id-1 div.sk-toggleable {\n",
       "  /* Default theme specific background. It is overwritten whether we have a\n",
       "  specific estimator or a Pipeline/ColumnTransformer */\n",
       "  background-color: var(--sklearn-color-background);\n",
       "}\n",
       "\n",
       "/* Toggleable label */\n",
       "#sk-container-id-1 label.sk-toggleable__label {\n",
       "  cursor: pointer;\n",
       "  display: block;\n",
       "  width: 100%;\n",
       "  margin-bottom: 0;\n",
       "  padding: 0.5em;\n",
       "  box-sizing: border-box;\n",
       "  text-align: center;\n",
       "}\n",
       "\n",
       "#sk-container-id-1 label.sk-toggleable__label-arrow:before {\n",
       "  /* Arrow on the left of the label */\n",
       "  content: \"▸\";\n",
       "  float: left;\n",
       "  margin-right: 0.25em;\n",
       "  color: var(--sklearn-color-icon);\n",
       "}\n",
       "\n",
       "#sk-container-id-1 label.sk-toggleable__label-arrow:hover:before {\n",
       "  color: var(--sklearn-color-text);\n",
       "}\n",
       "\n",
       "/* Toggleable content - dropdown */\n",
       "\n",
       "#sk-container-id-1 div.sk-toggleable__content {\n",
       "  max-height: 0;\n",
       "  max-width: 0;\n",
       "  overflow: hidden;\n",
       "  text-align: left;\n",
       "  /* unfitted */\n",
       "  background-color: var(--sklearn-color-unfitted-level-0);\n",
       "}\n",
       "\n",
       "#sk-container-id-1 div.sk-toggleable__content.fitted {\n",
       "  /* fitted */\n",
       "  background-color: var(--sklearn-color-fitted-level-0);\n",
       "}\n",
       "\n",
       "#sk-container-id-1 div.sk-toggleable__content pre {\n",
       "  margin: 0.2em;\n",
       "  border-radius: 0.25em;\n",
       "  color: var(--sklearn-color-text);\n",
       "  /* unfitted */\n",
       "  background-color: var(--sklearn-color-unfitted-level-0);\n",
       "}\n",
       "\n",
       "#sk-container-id-1 div.sk-toggleable__content.fitted pre {\n",
       "  /* unfitted */\n",
       "  background-color: var(--sklearn-color-fitted-level-0);\n",
       "}\n",
       "\n",
       "#sk-container-id-1 input.sk-toggleable__control:checked~div.sk-toggleable__content {\n",
       "  /* Expand drop-down */\n",
       "  max-height: 200px;\n",
       "  max-width: 100%;\n",
       "  overflow: auto;\n",
       "}\n",
       "\n",
       "#sk-container-id-1 input.sk-toggleable__control:checked~label.sk-toggleable__label-arrow:before {\n",
       "  content: \"▾\";\n",
       "}\n",
       "\n",
       "/* Pipeline/ColumnTransformer-specific style */\n",
       "\n",
       "#sk-container-id-1 div.sk-label input.sk-toggleable__control:checked~label.sk-toggleable__label {\n",
       "  color: var(--sklearn-color-text);\n",
       "  background-color: var(--sklearn-color-unfitted-level-2);\n",
       "}\n",
       "\n",
       "#sk-container-id-1 div.sk-label.fitted input.sk-toggleable__control:checked~label.sk-toggleable__label {\n",
       "  background-color: var(--sklearn-color-fitted-level-2);\n",
       "}\n",
       "\n",
       "/* Estimator-specific style */\n",
       "\n",
       "/* Colorize estimator box */\n",
       "#sk-container-id-1 div.sk-estimator input.sk-toggleable__control:checked~label.sk-toggleable__label {\n",
       "  /* unfitted */\n",
       "  background-color: var(--sklearn-color-unfitted-level-2);\n",
       "}\n",
       "\n",
       "#sk-container-id-1 div.sk-estimator.fitted input.sk-toggleable__control:checked~label.sk-toggleable__label {\n",
       "  /* fitted */\n",
       "  background-color: var(--sklearn-color-fitted-level-2);\n",
       "}\n",
       "\n",
       "#sk-container-id-1 div.sk-label label.sk-toggleable__label,\n",
       "#sk-container-id-1 div.sk-label label {\n",
       "  /* The background is the default theme color */\n",
       "  color: var(--sklearn-color-text-on-default-background);\n",
       "}\n",
       "\n",
       "/* On hover, darken the color of the background */\n",
       "#sk-container-id-1 div.sk-label:hover label.sk-toggleable__label {\n",
       "  color: var(--sklearn-color-text);\n",
       "  background-color: var(--sklearn-color-unfitted-level-2);\n",
       "}\n",
       "\n",
       "/* Label box, darken color on hover, fitted */\n",
       "#sk-container-id-1 div.sk-label.fitted:hover label.sk-toggleable__label.fitted {\n",
       "  color: var(--sklearn-color-text);\n",
       "  background-color: var(--sklearn-color-fitted-level-2);\n",
       "}\n",
       "\n",
       "/* Estimator label */\n",
       "\n",
       "#sk-container-id-1 div.sk-label label {\n",
       "  font-family: monospace;\n",
       "  font-weight: bold;\n",
       "  display: inline-block;\n",
       "  line-height: 1.2em;\n",
       "}\n",
       "\n",
       "#sk-container-id-1 div.sk-label-container {\n",
       "  text-align: center;\n",
       "}\n",
       "\n",
       "/* Estimator-specific */\n",
       "#sk-container-id-1 div.sk-estimator {\n",
       "  font-family: monospace;\n",
       "  border: 1px dotted var(--sklearn-color-border-box);\n",
       "  border-radius: 0.25em;\n",
       "  box-sizing: border-box;\n",
       "  margin-bottom: 0.5em;\n",
       "  /* unfitted */\n",
       "  background-color: var(--sklearn-color-unfitted-level-0);\n",
       "}\n",
       "\n",
       "#sk-container-id-1 div.sk-estimator.fitted {\n",
       "  /* fitted */\n",
       "  background-color: var(--sklearn-color-fitted-level-0);\n",
       "}\n",
       "\n",
       "/* on hover */\n",
       "#sk-container-id-1 div.sk-estimator:hover {\n",
       "  /* unfitted */\n",
       "  background-color: var(--sklearn-color-unfitted-level-2);\n",
       "}\n",
       "\n",
       "#sk-container-id-1 div.sk-estimator.fitted:hover {\n",
       "  /* fitted */\n",
       "  background-color: var(--sklearn-color-fitted-level-2);\n",
       "}\n",
       "\n",
       "/* Specification for estimator info (e.g. \"i\" and \"?\") */\n",
       "\n",
       "/* Common style for \"i\" and \"?\" */\n",
       "\n",
       ".sk-estimator-doc-link,\n",
       "a:link.sk-estimator-doc-link,\n",
       "a:visited.sk-estimator-doc-link {\n",
       "  float: right;\n",
       "  font-size: smaller;\n",
       "  line-height: 1em;\n",
       "  font-family: monospace;\n",
       "  background-color: var(--sklearn-color-background);\n",
       "  border-radius: 1em;\n",
       "  height: 1em;\n",
       "  width: 1em;\n",
       "  text-decoration: none !important;\n",
       "  margin-left: 1ex;\n",
       "  /* unfitted */\n",
       "  border: var(--sklearn-color-unfitted-level-1) 1pt solid;\n",
       "  color: var(--sklearn-color-unfitted-level-1);\n",
       "}\n",
       "\n",
       ".sk-estimator-doc-link.fitted,\n",
       "a:link.sk-estimator-doc-link.fitted,\n",
       "a:visited.sk-estimator-doc-link.fitted {\n",
       "  /* fitted */\n",
       "  border: var(--sklearn-color-fitted-level-1) 1pt solid;\n",
       "  color: var(--sklearn-color-fitted-level-1);\n",
       "}\n",
       "\n",
       "/* On hover */\n",
       "div.sk-estimator:hover .sk-estimator-doc-link:hover,\n",
       ".sk-estimator-doc-link:hover,\n",
       "div.sk-label-container:hover .sk-estimator-doc-link:hover,\n",
       ".sk-estimator-doc-link:hover {\n",
       "  /* unfitted */\n",
       "  background-color: var(--sklearn-color-unfitted-level-3);\n",
       "  color: var(--sklearn-color-background);\n",
       "  text-decoration: none;\n",
       "}\n",
       "\n",
       "div.sk-estimator.fitted:hover .sk-estimator-doc-link.fitted:hover,\n",
       ".sk-estimator-doc-link.fitted:hover,\n",
       "div.sk-label-container:hover .sk-estimator-doc-link.fitted:hover,\n",
       ".sk-estimator-doc-link.fitted:hover {\n",
       "  /* fitted */\n",
       "  background-color: var(--sklearn-color-fitted-level-3);\n",
       "  color: var(--sklearn-color-background);\n",
       "  text-decoration: none;\n",
       "}\n",
       "\n",
       "/* Span, style for the box shown on hovering the info icon */\n",
       ".sk-estimator-doc-link span {\n",
       "  display: none;\n",
       "  z-index: 9999;\n",
       "  position: relative;\n",
       "  font-weight: normal;\n",
       "  right: .2ex;\n",
       "  padding: .5ex;\n",
       "  margin: .5ex;\n",
       "  width: min-content;\n",
       "  min-width: 20ex;\n",
       "  max-width: 50ex;\n",
       "  color: var(--sklearn-color-text);\n",
       "  box-shadow: 2pt 2pt 4pt #999;\n",
       "  /* unfitted */\n",
       "  background: var(--sklearn-color-unfitted-level-0);\n",
       "  border: .5pt solid var(--sklearn-color-unfitted-level-3);\n",
       "}\n",
       "\n",
       ".sk-estimator-doc-link.fitted span {\n",
       "  /* fitted */\n",
       "  background: var(--sklearn-color-fitted-level-0);\n",
       "  border: var(--sklearn-color-fitted-level-3);\n",
       "}\n",
       "\n",
       ".sk-estimator-doc-link:hover span {\n",
       "  display: block;\n",
       "}\n",
       "\n",
       "/* \"?\"-specific style due to the `<a>` HTML tag */\n",
       "\n",
       "#sk-container-id-1 a.estimator_doc_link {\n",
       "  float: right;\n",
       "  font-size: 1rem;\n",
       "  line-height: 1em;\n",
       "  font-family: monospace;\n",
       "  background-color: var(--sklearn-color-background);\n",
       "  border-radius: 1rem;\n",
       "  height: 1rem;\n",
       "  width: 1rem;\n",
       "  text-decoration: none;\n",
       "  /* unfitted */\n",
       "  color: var(--sklearn-color-unfitted-level-1);\n",
       "  border: var(--sklearn-color-unfitted-level-1) 1pt solid;\n",
       "}\n",
       "\n",
       "#sk-container-id-1 a.estimator_doc_link.fitted {\n",
       "  /* fitted */\n",
       "  border: var(--sklearn-color-fitted-level-1) 1pt solid;\n",
       "  color: var(--sklearn-color-fitted-level-1);\n",
       "}\n",
       "\n",
       "/* On hover */\n",
       "#sk-container-id-1 a.estimator_doc_link:hover {\n",
       "  /* unfitted */\n",
       "  background-color: var(--sklearn-color-unfitted-level-3);\n",
       "  color: var(--sklearn-color-background);\n",
       "  text-decoration: none;\n",
       "}\n",
       "\n",
       "#sk-container-id-1 a.estimator_doc_link.fitted:hover {\n",
       "  /* fitted */\n",
       "  background-color: var(--sklearn-color-fitted-level-3);\n",
       "}\n",
       "</style><div id=\"sk-container-id-1\" class=\"sk-top-container\"><div class=\"sk-text-repr-fallback\"><pre>Pipeline(steps=[(&#x27;functiontransformer&#x27;,\n",
       "                 FunctionTransformer(func=&lt;function avg_rides_last_4_weeks at 0x12823fb00&gt;)),\n",
       "                (&#x27;temporalfeatureengineering&#x27;, TemporalFeatureEngineering()),\n",
       "                (&#x27;lgbmregressor&#x27;,\n",
       "                 LGBMRegressor(bagging_fraction=0.41096457468391273,\n",
       "                               feature_fraction=0.3862377279974252,\n",
       "                               min_child_samples=42, num_leaves=214))])</pre><b>In a Jupyter environment, please rerun this cell to show the HTML representation or trust the notebook. <br />On GitHub, the HTML representation is unable to render, please try loading this page with nbviewer.org.</b></div><div class=\"sk-container\" hidden><div class=\"sk-item sk-dashed-wrapped\"><div class=\"sk-label-container\"><div class=\"sk-label fitted sk-toggleable\"><input class=\"sk-toggleable__control sk-hidden--visually\" id=\"sk-estimator-id-1\" type=\"checkbox\" ><label for=\"sk-estimator-id-1\" class=\"sk-toggleable__label fitted sk-toggleable__label-arrow fitted\">&nbsp;&nbsp;Pipeline<a class=\"sk-estimator-doc-link fitted\" rel=\"noreferrer\" target=\"_blank\" href=\"https://scikit-learn.org/1.5/modules/generated/sklearn.pipeline.Pipeline.html\">?<span>Documentation for Pipeline</span></a><span class=\"sk-estimator-doc-link fitted\">i<span>Fitted</span></span></label><div class=\"sk-toggleable__content fitted\"><pre>Pipeline(steps=[(&#x27;functiontransformer&#x27;,\n",
       "                 FunctionTransformer(func=&lt;function avg_rides_last_4_weeks at 0x12823fb00&gt;)),\n",
       "                (&#x27;temporalfeatureengineering&#x27;, TemporalFeatureEngineering()),\n",
       "                (&#x27;lgbmregressor&#x27;,\n",
       "                 LGBMRegressor(bagging_fraction=0.41096457468391273,\n",
       "                               feature_fraction=0.3862377279974252,\n",
       "                               min_child_samples=42, num_leaves=214))])</pre></div> </div></div><div class=\"sk-serial\"><div class=\"sk-item\"><div class=\"sk-estimator fitted sk-toggleable\"><input class=\"sk-toggleable__control sk-hidden--visually\" id=\"sk-estimator-id-2\" type=\"checkbox\" ><label for=\"sk-estimator-id-2\" class=\"sk-toggleable__label fitted sk-toggleable__label-arrow fitted\">&nbsp;FunctionTransformer<a class=\"sk-estimator-doc-link fitted\" rel=\"noreferrer\" target=\"_blank\" href=\"https://scikit-learn.org/1.5/modules/generated/sklearn.preprocessing.FunctionTransformer.html\">?<span>Documentation for FunctionTransformer</span></a></label><div class=\"sk-toggleable__content fitted\"><pre>FunctionTransformer(func=&lt;function avg_rides_last_4_weeks at 0x12823fb00&gt;)</pre></div> </div></div><div class=\"sk-item\"><div class=\"sk-estimator fitted sk-toggleable\"><input class=\"sk-toggleable__control sk-hidden--visually\" id=\"sk-estimator-id-3\" type=\"checkbox\" ><label for=\"sk-estimator-id-3\" class=\"sk-toggleable__label fitted sk-toggleable__label-arrow fitted\">TemporalFeatureEngineering</label><div class=\"sk-toggleable__content fitted\"><pre>TemporalFeatureEngineering()</pre></div> </div></div><div class=\"sk-item\"><div class=\"sk-estimator fitted sk-toggleable\"><input class=\"sk-toggleable__control sk-hidden--visually\" id=\"sk-estimator-id-4\" type=\"checkbox\" ><label for=\"sk-estimator-id-4\" class=\"sk-toggleable__label fitted sk-toggleable__label-arrow fitted\">LGBMRegressor</label><div class=\"sk-toggleable__content fitted\"><pre>LGBMRegressor(bagging_fraction=0.41096457468391273,\n",
       "              feature_fraction=0.3862377279974252, min_child_samples=42,\n",
       "              num_leaves=214)</pre></div> </div></div></div></div></div></div>"
      ],
      "text/plain": [
       "Pipeline(steps=[('functiontransformer',\n",
       "                 FunctionTransformer(func=<function avg_rides_last_4_weeks at 0x12823fb00>)),\n",
       "                ('temporalfeatureengineering', TemporalFeatureEngineering()),\n",
       "                ('lgbmregressor',\n",
       "                 LGBMRegressor(bagging_fraction=0.41096457468391273,\n",
       "                               feature_fraction=0.3862377279974252,\n",
       "                               min_child_samples=42, num_leaves=214))])"
      ]
     },
     "execution_count": 9,
     "metadata": {},
     "output_type": "execute_result"
    }
   ],
   "source": [
    "pipeline = get_pipeline(**best_params)\n",
    "pipeline.fit(X_train, y_train)"
   ]
  },
  {
   "cell_type": "code",
   "execution_count": 10,
   "metadata": {},
   "outputs": [
    {
     "data": {
      "text/plain": [
       "array([4.47076000e+00, 1.44640263e+01, 4.08446816e+01, ...,\n",
       "       2.90857014e-02, 2.90857014e-02, 2.90857014e-02], shape=(32086,))"
      ]
     },
     "execution_count": 10,
     "metadata": {},
     "output_type": "execute_result"
    }
   ],
   "source": [
    "predictions = pipeline.predict(X_test)\n",
    "predictions"
   ]
  },
  {
   "cell_type": "code",
   "execution_count": 11,
   "metadata": {},
   "outputs": [
    {
     "name": "stdout",
     "output_type": "stream",
     "text": [
      "test_mae=3.0785\n"
     ]
    }
   ],
   "source": [
    "test_mae = mean_absolute_error(y_test, predictions)\n",
    "print(f\"{test_mae=:.4f}\")"
   ]
  },
  {
   "cell_type": "code",
   "execution_count": 12,
   "metadata": {},
   "outputs": [
    {
     "data": {
      "application/vnd.plotly.v1+json": {
       "config": {
        "plotlyServerURL": "https://plot.ly"
       },
       "data": [
        {
         "hovertemplate": "x=%{x}<br>y=%{y}<extra></extra>",
         "legendgroup": "",
         "line": {
          "color": "#636efa",
          "dash": "solid"
         },
         "marker": {
          "symbol": "circle"
         },
         "mode": "lines+markers",
         "name": "",
         "orientation": "v",
         "showlegend": false,
         "type": "scatter",
         "x": [
          "2024-08-22T00:00:00",
          "2024-08-22T01:00:00",
          "2024-08-22T02:00:00",
          "2024-08-22T03:00:00",
          "2024-08-22T04:00:00",
          "2024-08-22T05:00:00",
          "2024-08-22T06:00:00",
          "2024-08-22T07:00:00",
          "2024-08-22T08:00:00",
          "2024-08-22T09:00:00",
          "2024-08-22T10:00:00",
          "2024-08-22T11:00:00",
          "2024-08-22T12:00:00",
          "2024-08-22T13:00:00",
          "2024-08-22T14:00:00",
          "2024-08-22T15:00:00",
          "2024-08-22T16:00:00",
          "2024-08-22T17:00:00",
          "2024-08-22T18:00:00",
          "2024-08-22T19:00:00",
          "2024-08-22T20:00:00",
          "2024-08-22T21:00:00",
          "2024-08-22T22:00:00",
          "2024-08-22T23:00:00",
          "2024-08-23T00:00:00",
          "2024-08-23T01:00:00",
          "2024-08-23T02:00:00",
          "2024-08-23T03:00:00",
          "2024-08-23T04:00:00",
          "2024-08-23T05:00:00",
          "2024-08-23T06:00:00",
          "2024-08-23T07:00:00",
          "2024-08-23T08:00:00",
          "2024-08-23T09:00:00",
          "2024-08-23T10:00:00",
          "2024-08-23T11:00:00",
          "2024-08-23T12:00:00",
          "2024-08-23T13:00:00",
          "2024-08-23T14:00:00",
          "2024-08-23T15:00:00",
          "2024-08-23T16:00:00",
          "2024-08-23T17:00:00",
          "2024-08-23T18:00:00",
          "2024-08-23T19:00:00",
          "2024-08-23T20:00:00",
          "2024-08-23T21:00:00",
          "2024-08-23T22:00:00",
          "2024-08-23T23:00:00",
          "2024-08-24T00:00:00",
          "2024-08-24T01:00:00",
          "2024-08-24T02:00:00",
          "2024-08-24T03:00:00",
          "2024-08-24T04:00:00",
          "2024-08-24T05:00:00",
          "2024-08-24T06:00:00",
          "2024-08-24T07:00:00",
          "2024-08-24T08:00:00",
          "2024-08-24T09:00:00",
          "2024-08-24T10:00:00",
          "2024-08-24T11:00:00",
          "2024-08-24T12:00:00",
          "2024-08-24T13:00:00",
          "2024-08-24T14:00:00",
          "2024-08-24T15:00:00",
          "2024-08-24T16:00:00",
          "2024-08-24T17:00:00",
          "2024-08-24T18:00:00",
          "2024-08-24T19:00:00",
          "2024-08-24T20:00:00",
          "2024-08-24T21:00:00",
          "2024-08-24T22:00:00",
          "2024-08-24T23:00:00",
          "2024-08-25T00:00:00",
          "2024-08-25T01:00:00",
          "2024-08-25T02:00:00",
          "2024-08-25T03:00:00",
          "2024-08-25T04:00:00",
          "2024-08-25T05:00:00",
          "2024-08-25T06:00:00",
          "2024-08-25T07:00:00",
          "2024-08-25T08:00:00",
          "2024-08-25T09:00:00",
          "2024-08-25T10:00:00",
          "2024-08-25T11:00:00",
          "2024-08-25T12:00:00",
          "2024-08-25T13:00:00",
          "2024-08-25T14:00:00",
          "2024-08-25T15:00:00",
          "2024-08-25T16:00:00",
          "2024-08-25T17:00:00",
          "2024-08-25T18:00:00",
          "2024-08-25T19:00:00",
          "2024-08-25T20:00:00",
          "2024-08-25T21:00:00",
          "2024-08-25T22:00:00",
          "2024-08-25T23:00:00",
          "2024-08-26T00:00:00",
          "2024-08-26T01:00:00",
          "2024-08-26T02:00:00",
          "2024-08-26T03:00:00",
          "2024-08-26T04:00:00",
          "2024-08-26T05:00:00",
          "2024-08-26T06:00:00",
          "2024-08-26T07:00:00",
          "2024-08-26T08:00:00",
          "2024-08-26T09:00:00",
          "2024-08-26T10:00:00",
          "2024-08-26T11:00:00",
          "2024-08-26T12:00:00",
          "2024-08-26T13:00:00",
          "2024-08-26T14:00:00",
          "2024-08-26T15:00:00",
          "2024-08-26T16:00:00",
          "2024-08-26T17:00:00",
          "2024-08-26T18:00:00",
          "2024-08-26T19:00:00",
          "2024-08-26T20:00:00",
          "2024-08-26T21:00:00",
          "2024-08-26T22:00:00",
          "2024-08-26T23:00:00",
          "2024-08-27T00:00:00",
          "2024-08-27T01:00:00",
          "2024-08-27T02:00:00",
          "2024-08-27T03:00:00",
          "2024-08-27T04:00:00",
          "2024-08-27T05:00:00",
          "2024-08-27T06:00:00",
          "2024-08-27T07:00:00",
          "2024-08-27T08:00:00",
          "2024-08-27T09:00:00",
          "2024-08-27T10:00:00",
          "2024-08-27T11:00:00",
          "2024-08-27T12:00:00",
          "2024-08-27T13:00:00",
          "2024-08-27T14:00:00",
          "2024-08-27T15:00:00",
          "2024-08-27T16:00:00",
          "2024-08-27T17:00:00",
          "2024-08-27T18:00:00",
          "2024-08-27T19:00:00",
          "2024-08-27T20:00:00",
          "2024-08-27T21:00:00",
          "2024-08-27T22:00:00",
          "2024-08-27T23:00:00",
          "2024-08-28T00:00:00",
          "2024-08-28T01:00:00",
          "2024-08-28T02:00:00",
          "2024-08-28T03:00:00",
          "2024-08-28T04:00:00",
          "2024-08-28T05:00:00",
          "2024-08-28T06:00:00",
          "2024-08-28T07:00:00",
          "2024-08-28T08:00:00",
          "2024-08-28T09:00:00",
          "2024-08-28T10:00:00",
          "2024-08-28T11:00:00",
          "2024-08-28T12:00:00",
          "2024-08-28T13:00:00",
          "2024-08-28T14:00:00",
          "2024-08-28T15:00:00",
          "2024-08-28T16:00:00",
          "2024-08-28T17:00:00",
          "2024-08-28T18:00:00",
          "2024-08-28T19:00:00",
          "2024-08-28T20:00:00",
          "2024-08-28T21:00:00",
          "2024-08-28T22:00:00",
          "2024-08-28T23:00:00",
          "2024-08-29T00:00:00",
          "2024-08-29T01:00:00",
          "2024-08-29T02:00:00",
          "2024-08-29T03:00:00",
          "2024-08-29T04:00:00",
          "2024-08-29T05:00:00",
          "2024-08-29T06:00:00",
          "2024-08-29T07:00:00",
          "2024-08-29T08:00:00",
          "2024-08-29T09:00:00",
          "2024-08-29T10:00:00",
          "2024-08-29T11:00:00",
          "2024-08-29T12:00:00",
          "2024-08-29T13:00:00",
          "2024-08-29T14:00:00",
          "2024-08-29T15:00:00",
          "2024-08-29T16:00:00",
          "2024-08-29T17:00:00",
          "2024-08-29T18:00:00",
          "2024-08-29T19:00:00",
          "2024-08-29T20:00:00",
          "2024-08-29T21:00:00",
          "2024-08-29T22:00:00",
          "2024-08-29T23:00:00",
          "2024-08-30T00:00:00",
          "2024-08-30T01:00:00",
          "2024-08-30T02:00:00",
          "2024-08-30T03:00:00",
          "2024-08-30T04:00:00",
          "2024-08-30T05:00:00",
          "2024-08-30T06:00:00",
          "2024-08-30T07:00:00",
          "2024-08-30T08:00:00",
          "2024-08-30T09:00:00",
          "2024-08-30T10:00:00",
          "2024-08-30T11:00:00",
          "2024-08-30T12:00:00",
          "2024-08-30T13:00:00",
          "2024-08-30T14:00:00",
          "2024-08-30T15:00:00",
          "2024-08-30T16:00:00",
          "2024-08-30T17:00:00",
          "2024-08-30T18:00:00",
          "2024-08-30T19:00:00",
          "2024-08-30T20:00:00",
          "2024-08-30T21:00:00",
          "2024-08-30T22:00:00",
          "2024-08-30T23:00:00",
          "2024-08-31T00:00:00",
          "2024-08-31T01:00:00",
          "2024-08-31T02:00:00",
          "2024-08-31T03:00:00",
          "2024-08-31T04:00:00",
          "2024-08-31T05:00:00",
          "2024-08-31T06:00:00",
          "2024-08-31T07:00:00",
          "2024-08-31T08:00:00",
          "2024-08-31T09:00:00",
          "2024-08-31T10:00:00",
          "2024-08-31T11:00:00",
          "2024-08-31T12:00:00",
          "2024-08-31T13:00:00",
          "2024-08-31T14:00:00",
          "2024-08-31T15:00:00",
          "2024-08-31T16:00:00",
          "2024-08-31T17:00:00",
          "2024-08-31T18:00:00",
          "2024-08-31T19:00:00",
          "2024-08-31T20:00:00",
          "2024-08-31T21:00:00",
          "2024-08-31T22:00:00",
          "2024-08-31T23:00:00",
          "2024-09-01T00:00:00",
          "2024-09-01T01:00:00",
          "2024-09-01T02:00:00",
          "2024-09-01T03:00:00",
          "2024-09-01T04:00:00",
          "2024-09-01T05:00:00",
          "2024-09-01T06:00:00",
          "2024-09-01T07:00:00",
          "2024-09-01T08:00:00",
          "2024-09-01T09:00:00",
          "2024-09-01T10:00:00",
          "2024-09-01T11:00:00",
          "2024-09-01T12:00:00",
          "2024-09-01T13:00:00",
          "2024-09-01T14:00:00",
          "2024-09-01T15:00:00",
          "2024-09-01T16:00:00",
          "2024-09-01T17:00:00",
          "2024-09-01T18:00:00",
          "2024-09-01T19:00:00",
          "2024-09-01T20:00:00",
          "2024-09-01T21:00:00",
          "2024-09-01T22:00:00",
          "2024-09-01T23:00:00",
          "2024-09-02T00:00:00",
          "2024-09-02T01:00:00",
          "2024-09-02T02:00:00",
          "2024-09-02T03:00:00",
          "2024-09-02T04:00:00",
          "2024-09-02T05:00:00",
          "2024-09-02T06:00:00",
          "2024-09-02T07:00:00",
          "2024-09-02T08:00:00",
          "2024-09-02T09:00:00",
          "2024-09-02T10:00:00",
          "2024-09-02T11:00:00",
          "2024-09-02T12:00:00",
          "2024-09-02T13:00:00",
          "2024-09-02T14:00:00",
          "2024-09-02T15:00:00",
          "2024-09-02T16:00:00",
          "2024-09-02T17:00:00",
          "2024-09-02T18:00:00",
          "2024-09-02T19:00:00",
          "2024-09-02T20:00:00",
          "2024-09-02T21:00:00",
          "2024-09-02T22:00:00",
          "2024-09-02T23:00:00",
          "2024-09-03T00:00:00",
          "2024-09-03T01:00:00",
          "2024-09-03T02:00:00",
          "2024-09-03T03:00:00",
          "2024-09-03T04:00:00",
          "2024-09-03T05:00:00",
          "2024-09-03T06:00:00",
          "2024-09-03T07:00:00",
          "2024-09-03T08:00:00",
          "2024-09-03T09:00:00",
          "2024-09-03T10:00:00",
          "2024-09-03T11:00:00",
          "2024-09-03T12:00:00",
          "2024-09-03T13:00:00",
          "2024-09-03T14:00:00",
          "2024-09-03T15:00:00",
          "2024-09-03T16:00:00",
          "2024-09-03T17:00:00",
          "2024-09-03T18:00:00",
          "2024-09-03T19:00:00",
          "2024-09-03T20:00:00",
          "2024-09-03T21:00:00",
          "2024-09-03T22:00:00",
          "2024-09-03T23:00:00",
          "2024-09-04T00:00:00",
          "2024-09-04T01:00:00",
          "2024-09-04T02:00:00",
          "2024-09-04T03:00:00",
          "2024-09-04T04:00:00",
          "2024-09-04T05:00:00",
          "2024-09-04T06:00:00",
          "2024-09-04T07:00:00",
          "2024-09-04T08:00:00",
          "2024-09-04T09:00:00",
          "2024-09-04T10:00:00",
          "2024-09-04T11:00:00",
          "2024-09-04T12:00:00",
          "2024-09-04T13:00:00",
          "2024-09-04T14:00:00",
          "2024-09-04T15:00:00",
          "2024-09-04T16:00:00",
          "2024-09-04T17:00:00",
          "2024-09-04T18:00:00",
          "2024-09-04T19:00:00",
          "2024-09-04T20:00:00",
          "2024-09-04T21:00:00",
          "2024-09-04T22:00:00",
          "2024-09-04T23:00:00",
          "2024-09-05T00:00:00",
          "2024-09-05T01:00:00",
          "2024-09-05T02:00:00",
          "2024-09-05T03:00:00",
          "2024-09-05T04:00:00",
          "2024-09-05T05:00:00",
          "2024-09-05T06:00:00",
          "2024-09-05T07:00:00",
          "2024-09-05T08:00:00",
          "2024-09-05T09:00:00",
          "2024-09-05T10:00:00",
          "2024-09-05T11:00:00",
          "2024-09-05T12:00:00",
          "2024-09-05T13:00:00",
          "2024-09-05T14:00:00",
          "2024-09-05T15:00:00",
          "2024-09-05T16:00:00",
          "2024-09-05T17:00:00",
          "2024-09-05T18:00:00",
          "2024-09-05T19:00:00",
          "2024-09-05T20:00:00",
          "2024-09-05T21:00:00",
          "2024-09-05T22:00:00",
          "2024-09-05T23:00:00",
          "2024-09-06T00:00:00",
          "2024-09-06T01:00:00",
          "2024-09-06T02:00:00",
          "2024-09-06T03:00:00",
          "2024-09-06T04:00:00",
          "2024-09-06T05:00:00",
          "2024-09-06T06:00:00",
          "2024-09-06T07:00:00",
          "2024-09-06T08:00:00",
          "2024-09-06T09:00:00",
          "2024-09-06T10:00:00",
          "2024-09-06T11:00:00",
          "2024-09-06T12:00:00",
          "2024-09-06T13:00:00",
          "2024-09-06T14:00:00",
          "2024-09-06T15:00:00",
          "2024-09-06T16:00:00",
          "2024-09-06T17:00:00",
          "2024-09-06T18:00:00",
          "2024-09-06T19:00:00",
          "2024-09-06T20:00:00",
          "2024-09-06T21:00:00",
          "2024-09-06T22:00:00",
          "2024-09-06T23:00:00",
          "2024-09-07T00:00:00",
          "2024-09-07T01:00:00",
          "2024-09-07T02:00:00",
          "2024-09-07T03:00:00",
          "2024-09-07T04:00:00",
          "2024-09-07T05:00:00",
          "2024-09-07T06:00:00",
          "2024-09-07T07:00:00",
          "2024-09-07T08:00:00",
          "2024-09-07T09:00:00",
          "2024-09-07T10:00:00",
          "2024-09-07T11:00:00",
          "2024-09-07T12:00:00",
          "2024-09-07T13:00:00",
          "2024-09-07T14:00:00",
          "2024-09-07T15:00:00",
          "2024-09-07T16:00:00",
          "2024-09-07T17:00:00",
          "2024-09-07T18:00:00",
          "2024-09-07T19:00:00",
          "2024-09-07T20:00:00",
          "2024-09-07T21:00:00",
          "2024-09-07T22:00:00",
          "2024-09-07T23:00:00",
          "2024-09-08T00:00:00",
          "2024-09-08T01:00:00",
          "2024-09-08T02:00:00",
          "2024-09-08T03:00:00",
          "2024-09-08T04:00:00",
          "2024-09-08T05:00:00",
          "2024-09-08T06:00:00",
          "2024-09-08T07:00:00",
          "2024-09-08T08:00:00",
          "2024-09-08T09:00:00",
          "2024-09-08T10:00:00",
          "2024-09-08T11:00:00",
          "2024-09-08T12:00:00",
          "2024-09-08T13:00:00",
          "2024-09-08T14:00:00",
          "2024-09-08T15:00:00",
          "2024-09-08T16:00:00",
          "2024-09-08T17:00:00",
          "2024-09-08T18:00:00",
          "2024-09-08T19:00:00",
          "2024-09-08T20:00:00",
          "2024-09-08T21:00:00",
          "2024-09-08T22:00:00",
          "2024-09-08T23:00:00",
          "2024-09-09T00:00:00",
          "2024-09-09T01:00:00",
          "2024-09-09T02:00:00",
          "2024-09-09T03:00:00",
          "2024-09-09T04:00:00",
          "2024-09-09T05:00:00",
          "2024-09-09T06:00:00",
          "2024-09-09T07:00:00",
          "2024-09-09T08:00:00",
          "2024-09-09T09:00:00",
          "2024-09-09T10:00:00",
          "2024-09-09T11:00:00",
          "2024-09-09T12:00:00",
          "2024-09-09T13:00:00",
          "2024-09-09T14:00:00",
          "2024-09-09T15:00:00",
          "2024-09-09T16:00:00",
          "2024-09-09T17:00:00",
          "2024-09-09T18:00:00",
          "2024-09-09T19:00:00",
          "2024-09-09T20:00:00",
          "2024-09-09T21:00:00",
          "2024-09-09T22:00:00",
          "2024-09-09T23:00:00",
          "2024-09-10T00:00:00",
          "2024-09-10T01:00:00",
          "2024-09-10T02:00:00",
          "2024-09-10T03:00:00",
          "2024-09-10T04:00:00",
          "2024-09-10T05:00:00",
          "2024-09-10T06:00:00",
          "2024-09-10T07:00:00",
          "2024-09-10T08:00:00",
          "2024-09-10T09:00:00",
          "2024-09-10T10:00:00",
          "2024-09-10T11:00:00",
          "2024-09-10T12:00:00",
          "2024-09-10T13:00:00",
          "2024-09-10T14:00:00",
          "2024-09-10T15:00:00",
          "2024-09-10T16:00:00",
          "2024-09-10T17:00:00",
          "2024-09-10T18:00:00",
          "2024-09-10T19:00:00",
          "2024-09-10T20:00:00",
          "2024-09-10T21:00:00",
          "2024-09-10T22:00:00",
          "2024-09-10T23:00:00",
          "2024-09-11T00:00:00",
          "2024-09-11T01:00:00",
          "2024-09-11T02:00:00",
          "2024-09-11T03:00:00",
          "2024-09-11T04:00:00",
          "2024-09-11T05:00:00",
          "2024-09-11T06:00:00",
          "2024-09-11T07:00:00",
          "2024-09-11T08:00:00",
          "2024-09-11T09:00:00",
          "2024-09-11T10:00:00",
          "2024-09-11T11:00:00",
          "2024-09-11T12:00:00",
          "2024-09-11T13:00:00",
          "2024-09-11T14:00:00",
          "2024-09-11T15:00:00",
          "2024-09-11T16:00:00",
          "2024-09-11T17:00:00",
          "2024-09-11T18:00:00",
          "2024-09-11T19:00:00",
          "2024-09-11T20:00:00",
          "2024-09-11T21:00:00",
          "2024-09-11T22:00:00",
          "2024-09-11T23:00:00",
          "2024-09-12T00:00:00",
          "2024-09-12T01:00:00",
          "2024-09-12T02:00:00",
          "2024-09-12T03:00:00",
          "2024-09-12T04:00:00",
          "2024-09-12T05:00:00",
          "2024-09-12T06:00:00",
          "2024-09-12T07:00:00",
          "2024-09-12T08:00:00",
          "2024-09-12T09:00:00",
          "2024-09-12T10:00:00",
          "2024-09-12T11:00:00",
          "2024-09-12T12:00:00",
          "2024-09-12T13:00:00",
          "2024-09-12T14:00:00",
          "2024-09-12T15:00:00",
          "2024-09-12T16:00:00",
          "2024-09-12T17:00:00",
          "2024-09-12T18:00:00",
          "2024-09-12T19:00:00",
          "2024-09-12T20:00:00",
          "2024-09-12T21:00:00",
          "2024-09-12T22:00:00",
          "2024-09-12T23:00:00",
          "2024-09-13T00:00:00",
          "2024-09-13T01:00:00",
          "2024-09-13T02:00:00",
          "2024-09-13T03:00:00",
          "2024-09-13T04:00:00",
          "2024-09-13T05:00:00",
          "2024-09-13T06:00:00",
          "2024-09-13T07:00:00",
          "2024-09-13T08:00:00",
          "2024-09-13T09:00:00",
          "2024-09-13T10:00:00",
          "2024-09-13T11:00:00",
          "2024-09-13T12:00:00",
          "2024-09-13T13:00:00",
          "2024-09-13T14:00:00",
          "2024-09-13T15:00:00",
          "2024-09-13T16:00:00",
          "2024-09-13T17:00:00",
          "2024-09-13T18:00:00",
          "2024-09-13T19:00:00",
          "2024-09-13T20:00:00",
          "2024-09-13T21:00:00",
          "2024-09-13T22:00:00",
          "2024-09-13T23:00:00",
          "2024-09-14T00:00:00",
          "2024-09-14T01:00:00",
          "2024-09-14T02:00:00",
          "2024-09-14T03:00:00",
          "2024-09-14T04:00:00",
          "2024-09-14T05:00:00",
          "2024-09-14T06:00:00",
          "2024-09-14T07:00:00",
          "2024-09-14T08:00:00",
          "2024-09-14T09:00:00",
          "2024-09-14T10:00:00",
          "2024-09-14T11:00:00",
          "2024-09-14T12:00:00",
          "2024-09-14T13:00:00",
          "2024-09-14T14:00:00",
          "2024-09-14T15:00:00",
          "2024-09-14T16:00:00",
          "2024-09-14T17:00:00",
          "2024-09-14T18:00:00",
          "2024-09-14T19:00:00",
          "2024-09-14T20:00:00",
          "2024-09-14T21:00:00",
          "2024-09-14T22:00:00",
          "2024-09-14T23:00:00",
          "2024-09-15T00:00:00",
          "2024-09-15T01:00:00",
          "2024-09-15T02:00:00",
          "2024-09-15T03:00:00",
          "2024-09-15T04:00:00",
          "2024-09-15T05:00:00",
          "2024-09-15T06:00:00",
          "2024-09-15T07:00:00",
          "2024-09-15T08:00:00",
          "2024-09-15T09:00:00",
          "2024-09-15T10:00:00",
          "2024-09-15T11:00:00",
          "2024-09-15T12:00:00",
          "2024-09-15T13:00:00",
          "2024-09-15T14:00:00",
          "2024-09-15T15:00:00",
          "2024-09-15T16:00:00",
          "2024-09-15T17:00:00",
          "2024-09-15T18:00:00",
          "2024-09-15T19:00:00",
          "2024-09-15T20:00:00",
          "2024-09-15T21:00:00",
          "2024-09-15T22:00:00",
          "2024-09-15T23:00:00",
          "2024-09-16T00:00:00",
          "2024-09-16T01:00:00",
          "2024-09-16T02:00:00",
          "2024-09-16T03:00:00",
          "2024-09-16T04:00:00",
          "2024-09-16T05:00:00",
          "2024-09-16T06:00:00",
          "2024-09-16T07:00:00",
          "2024-09-16T08:00:00",
          "2024-09-16T09:00:00",
          "2024-09-16T10:00:00",
          "2024-09-16T11:00:00",
          "2024-09-16T12:00:00",
          "2024-09-16T13:00:00",
          "2024-09-16T14:00:00",
          "2024-09-16T15:00:00",
          "2024-09-16T16:00:00",
          "2024-09-16T17:00:00",
          "2024-09-16T18:00:00",
          "2024-09-16T19:00:00",
          "2024-09-16T20:00:00",
          "2024-09-16T21:00:00",
          "2024-09-16T22:00:00",
          "2024-09-16T23:00:00",
          "2024-09-17T00:00:00",
          "2024-09-17T01:00:00",
          "2024-09-17T02:00:00",
          "2024-09-17T03:00:00",
          "2024-09-17T04:00:00",
          "2024-09-17T05:00:00",
          "2024-09-17T06:00:00",
          "2024-09-17T07:00:00",
          "2024-09-17T08:00:00",
          "2024-09-17T09:00:00",
          "2024-09-17T10:00:00",
          "2024-09-17T11:00:00",
          "2024-09-17T12:00:00",
          "2024-09-17T13:00:00",
          "2024-09-17T14:00:00",
          "2024-09-17T15:00:00",
          "2024-09-17T16:00:00",
          "2024-09-17T17:00:00",
          "2024-09-17T18:00:00",
          "2024-09-17T19:00:00",
          "2024-09-17T20:00:00",
          "2024-09-17T21:00:00",
          "2024-09-17T22:00:00",
          "2024-09-17T23:00:00",
          "2024-09-18T00:00:00",
          "2024-09-18T01:00:00",
          "2024-09-18T02:00:00",
          "2024-09-18T03:00:00",
          "2024-09-18T04:00:00",
          "2024-09-18T05:00:00",
          "2024-09-18T06:00:00",
          "2024-09-18T07:00:00",
          "2024-09-18T08:00:00",
          "2024-09-18T09:00:00",
          "2024-09-18T10:00:00",
          "2024-09-18T11:00:00",
          "2024-09-18T12:00:00",
          "2024-09-18T13:00:00",
          "2024-09-18T14:00:00",
          "2024-09-18T15:00:00",
          "2024-09-18T16:00:00",
          "2024-09-18T17:00:00",
          "2024-09-18T18:00:00",
          "2024-09-18T19:00:00",
          "2024-09-18T20:00:00",
          "2024-09-18T21:00:00",
          "2024-09-18T22:00:00",
          "2024-09-18T23:00:00",
          "2024-09-19T00:00:00"
         ],
         "xaxis": "x",
         "y": [
          75,
          43,
          22,
          16,
          27,
          39,
          83,
          60,
          111,
          109,
          102,
          78,
          94,
          98,
          90,
          98,
          105,
          102,
          150,
          106,
          165,
          213,
          190,
          130,
          107,
          54,
          39,
          25,
          28,
          53,
          59,
          52,
          91,
          78,
          112,
          90,
          85,
          73,
          105,
          70,
          102,
          118,
          174,
          118,
          136,
          188,
          218,
          198,
          154,
          109,
          82,
          61,
          40,
          32,
          48,
          43,
          50,
          82,
          111,
          103,
          98,
          105,
          115,
          98,
          147,
          143,
          136,
          124,
          140,
          152,
          270,
          238,
          142,
          117,
          113,
          76,
          70,
          37,
          39,
          40,
          45,
          80,
          114,
          85,
          111,
          113,
          85,
          101,
          138,
          161,
          133,
          125,
          115,
          99,
          105,
          68,
          52,
          28,
          21,
          22,
          21,
          49,
          62,
          72,
          98,
          97,
          97,
          107,
          118,
          106,
          108,
          74,
          94,
          111,
          110,
          91,
          165,
          181,
          119,
          77,
          57,
          26,
          13,
          13,
          20,
          37,
          60,
          77,
          118,
          89,
          89,
          71,
          88,
          102,
          117,
          89,
          112,
          125,
          137,
          99,
          143,
          226,
          186,
          111,
          78,
          37,
          27,
          18,
          23,
          49,
          54,
          80,
          99,
          129,
          128,
          105,
          121,
          110,
          102,
          106,
          133,
          141,
          151,
          115,
          152,
          298,
          247,
          149,
          67,
          55,
          27,
          11,
          35,
          42,
          76,
          87,
          118,
          108,
          118,
          103,
          111,
          104,
          102,
          82,
          129,
          119,
          151,
          123,
          155,
          283,
          222,
          140,
          92,
          64,
          49,
          34,
          34,
          57,
          83,
          71,
          80,
          100,
          103,
          88,
          105,
          114,
          109,
          111,
          111,
          126,
          117,
          116,
          140,
          222,
          219,
          165,
          152,
          131,
          113,
          101,
          57,
          25,
          23,
          31,
          51,
          104,
          132,
          119,
          99,
          108,
          101,
          83,
          160,
          161,
          152,
          154,
          159,
          170,
          269,
          222,
          147,
          115,
          109,
          68,
          60,
          21,
          26,
          35,
          45,
          106,
          126,
          109,
          153,
          116,
          95,
          109,
          160,
          183,
          151,
          142,
          158,
          149,
          175,
          117,
          94,
          67,
          67,
          53,
          48,
          34,
          20,
          23,
          43,
          79,
          105,
          115,
          101,
          105,
          103,
          100,
          81,
          106,
          113,
          84,
          105,
          110,
          94,
          64,
          52,
          36,
          21,
          17,
          28,
          32,
          58,
          98,
          112,
          85,
          96,
          101,
          112,
          95,
          92,
          100,
          93,
          131,
          139,
          118,
          131,
          214,
          182,
          99,
          56,
          32,
          11,
          12,
          14,
          43,
          65,
          112,
          122,
          102,
          103,
          104,
          103,
          111,
          123,
          117,
          157,
          186,
          166,
          133,
          185,
          230,
          247,
          151,
          81,
          41,
          27,
          21,
          16,
          49,
          62,
          117,
          120,
          125,
          111,
          123,
          103,
          107,
          100,
          96,
          127,
          158,
          200,
          203,
          214,
          273,
          291,
          236,
          142,
          100,
          39,
          37,
          33,
          42,
          70,
          91,
          122,
          96,
          111,
          101,
          103,
          115,
          121,
          110,
          138,
          170,
          163,
          180,
          153,
          226,
          258,
          259,
          237,
          160,
          119,
          74,
          54,
          26,
          35,
          50,
          88,
          103,
          127,
          161,
          154,
          137,
          119,
          157,
          195,
          155,
          151,
          178,
          190,
          184,
          300,
          292,
          228,
          179,
          148,
          126,
          81,
          29,
          24,
          38,
          51,
          109,
          119,
          133,
          142,
          154,
          113,
          114,
          148,
          151,
          136,
          149,
          167,
          135,
          97,
          70,
          48,
          30,
          15,
          17,
          34,
          48,
          87,
          91,
          123,
          106,
          102,
          105,
          97,
          106,
          97,
          106,
          94,
          130,
          136,
          136,
          129,
          184,
          105,
          99,
          49,
          42,
          13,
          19,
          16,
          31,
          37,
          101,
          122,
          138,
          107,
          110,
          99,
          103,
          102,
          103,
          100,
          152,
          177,
          179,
          261,
          290,
          213,
          165,
          69,
          37,
          23,
          16,
          19,
          48,
          87,
          100,
          106,
          129,
          102,
          102,
          97,
          112,
          83,
          117,
          137,
          171,
          174,
          174,
          167,
          196,
          237,
          188,
          91,
          49,
          17,
          30,
          28,
          33,
          85,
          109,
          118,
          139,
          100,
          101,
          109,
          117,
          107,
          130,
          132,
          182,
          205,
          188,
          245,
          275,
          322,
          230,
          114,
          75,
          56,
          35,
          34,
          36,
          83,
          90,
          93,
          84,
          104,
          95,
          81,
          96,
          100,
          121,
          118,
          144,
          180,
          172,
          212,
          252,
          351,
          269,
          251,
          193,
          102,
          102,
          57,
          21,
          32,
          36,
          91,
          105,
          116,
          130,
          143,
          122,
          100,
          144,
          180,
          200,
          203,
          202,
          236,
          221,
          314,
          320,
          260,
          193,
          122,
          94,
          64,
          35,
          24,
          44,
          52,
          95,
          140,
          158,
          146,
          146,
          130,
          123,
          130,
          168,
          189,
          152,
          161,
          158,
          175,
          65,
          56,
          29,
          23,
          26,
          19,
          34,
          83,
          88,
          106,
          92,
          118,
          93,
          102,
          92,
          91,
          108,
          103,
          133,
          140,
          131,
          162,
          155,
          164,
          84,
          41,
          29,
          20,
          12,
          10,
          25,
          83,
          95,
          133,
          108,
          110,
          101,
          105,
          93,
          103,
          108,
          138,
          155,
          187,
          163,
          210,
          278,
          347,
          141,
          69,
          31,
          22,
          22,
          15,
          19,
          101,
          117,
          135,
          136,
          115,
          112,
          107,
          110,
          101,
          123,
          171,
          181,
          244,
          181,
          207,
          272,
          307,
          180,
          84
         ],
         "yaxis": "y"
        },
        {
         "line": {
          "color": "green"
         },
         "marker": {
          "size": 10
         },
         "mode": "markers",
         "name": "actual value",
         "type": "scatter",
         "x": [
          "2024-09-19T00:00:00"
         ],
         "y": [
          84
         ]
        },
        {
         "line": {
          "color": "red"
         },
         "marker": {
          "size": 15,
          "symbol": "x"
         },
         "mode": "markers",
         "name": "prediction",
         "type": "scatter",
         "x": [
          "2024-09-19T00:00:00"
         ],
         "y": [
          87.17859337419686
         ]
        }
       ],
       "layout": {
        "legend": {
         "tracegroupgap": 0
        },
        "template": {
         "data": {
          "bar": [
           {
            "error_x": {
             "color": "#f2f5fa"
            },
            "error_y": {
             "color": "#f2f5fa"
            },
            "marker": {
             "line": {
              "color": "rgb(17,17,17)",
              "width": 0.5
             },
             "pattern": {
              "fillmode": "overlay",
              "size": 10,
              "solidity": 0.2
             }
            },
            "type": "bar"
           }
          ],
          "barpolar": [
           {
            "marker": {
             "line": {
              "color": "rgb(17,17,17)",
              "width": 0.5
             },
             "pattern": {
              "fillmode": "overlay",
              "size": 10,
              "solidity": 0.2
             }
            },
            "type": "barpolar"
           }
          ],
          "carpet": [
           {
            "aaxis": {
             "endlinecolor": "#A2B1C6",
             "gridcolor": "#506784",
             "linecolor": "#506784",
             "minorgridcolor": "#506784",
             "startlinecolor": "#A2B1C6"
            },
            "baxis": {
             "endlinecolor": "#A2B1C6",
             "gridcolor": "#506784",
             "linecolor": "#506784",
             "minorgridcolor": "#506784",
             "startlinecolor": "#A2B1C6"
            },
            "type": "carpet"
           }
          ],
          "choropleth": [
           {
            "colorbar": {
             "outlinewidth": 0,
             "ticks": ""
            },
            "type": "choropleth"
           }
          ],
          "contour": [
           {
            "colorbar": {
             "outlinewidth": 0,
             "ticks": ""
            },
            "colorscale": [
             [
              0,
              "#0d0887"
             ],
             [
              0.1111111111111111,
              "#46039f"
             ],
             [
              0.2222222222222222,
              "#7201a8"
             ],
             [
              0.3333333333333333,
              "#9c179e"
             ],
             [
              0.4444444444444444,
              "#bd3786"
             ],
             [
              0.5555555555555556,
              "#d8576b"
             ],
             [
              0.6666666666666666,
              "#ed7953"
             ],
             [
              0.7777777777777778,
              "#fb9f3a"
             ],
             [
              0.8888888888888888,
              "#fdca26"
             ],
             [
              1,
              "#f0f921"
             ]
            ],
            "type": "contour"
           }
          ],
          "contourcarpet": [
           {
            "colorbar": {
             "outlinewidth": 0,
             "ticks": ""
            },
            "type": "contourcarpet"
           }
          ],
          "heatmap": [
           {
            "colorbar": {
             "outlinewidth": 0,
             "ticks": ""
            },
            "colorscale": [
             [
              0,
              "#0d0887"
             ],
             [
              0.1111111111111111,
              "#46039f"
             ],
             [
              0.2222222222222222,
              "#7201a8"
             ],
             [
              0.3333333333333333,
              "#9c179e"
             ],
             [
              0.4444444444444444,
              "#bd3786"
             ],
             [
              0.5555555555555556,
              "#d8576b"
             ],
             [
              0.6666666666666666,
              "#ed7953"
             ],
             [
              0.7777777777777778,
              "#fb9f3a"
             ],
             [
              0.8888888888888888,
              "#fdca26"
             ],
             [
              1,
              "#f0f921"
             ]
            ],
            "type": "heatmap"
           }
          ],
          "heatmapgl": [
           {
            "colorbar": {
             "outlinewidth": 0,
             "ticks": ""
            },
            "colorscale": [
             [
              0,
              "#0d0887"
             ],
             [
              0.1111111111111111,
              "#46039f"
             ],
             [
              0.2222222222222222,
              "#7201a8"
             ],
             [
              0.3333333333333333,
              "#9c179e"
             ],
             [
              0.4444444444444444,
              "#bd3786"
             ],
             [
              0.5555555555555556,
              "#d8576b"
             ],
             [
              0.6666666666666666,
              "#ed7953"
             ],
             [
              0.7777777777777778,
              "#fb9f3a"
             ],
             [
              0.8888888888888888,
              "#fdca26"
             ],
             [
              1,
              "#f0f921"
             ]
            ],
            "type": "heatmapgl"
           }
          ],
          "histogram": [
           {
            "marker": {
             "pattern": {
              "fillmode": "overlay",
              "size": 10,
              "solidity": 0.2
             }
            },
            "type": "histogram"
           }
          ],
          "histogram2d": [
           {
            "colorbar": {
             "outlinewidth": 0,
             "ticks": ""
            },
            "colorscale": [
             [
              0,
              "#0d0887"
             ],
             [
              0.1111111111111111,
              "#46039f"
             ],
             [
              0.2222222222222222,
              "#7201a8"
             ],
             [
              0.3333333333333333,
              "#9c179e"
             ],
             [
              0.4444444444444444,
              "#bd3786"
             ],
             [
              0.5555555555555556,
              "#d8576b"
             ],
             [
              0.6666666666666666,
              "#ed7953"
             ],
             [
              0.7777777777777778,
              "#fb9f3a"
             ],
             [
              0.8888888888888888,
              "#fdca26"
             ],
             [
              1,
              "#f0f921"
             ]
            ],
            "type": "histogram2d"
           }
          ],
          "histogram2dcontour": [
           {
            "colorbar": {
             "outlinewidth": 0,
             "ticks": ""
            },
            "colorscale": [
             [
              0,
              "#0d0887"
             ],
             [
              0.1111111111111111,
              "#46039f"
             ],
             [
              0.2222222222222222,
              "#7201a8"
             ],
             [
              0.3333333333333333,
              "#9c179e"
             ],
             [
              0.4444444444444444,
              "#bd3786"
             ],
             [
              0.5555555555555556,
              "#d8576b"
             ],
             [
              0.6666666666666666,
              "#ed7953"
             ],
             [
              0.7777777777777778,
              "#fb9f3a"
             ],
             [
              0.8888888888888888,
              "#fdca26"
             ],
             [
              1,
              "#f0f921"
             ]
            ],
            "type": "histogram2dcontour"
           }
          ],
          "mesh3d": [
           {
            "colorbar": {
             "outlinewidth": 0,
             "ticks": ""
            },
            "type": "mesh3d"
           }
          ],
          "parcoords": [
           {
            "line": {
             "colorbar": {
              "outlinewidth": 0,
              "ticks": ""
             }
            },
            "type": "parcoords"
           }
          ],
          "pie": [
           {
            "automargin": true,
            "type": "pie"
           }
          ],
          "scatter": [
           {
            "marker": {
             "line": {
              "color": "#283442"
             }
            },
            "type": "scatter"
           }
          ],
          "scatter3d": [
           {
            "line": {
             "colorbar": {
              "outlinewidth": 0,
              "ticks": ""
             }
            },
            "marker": {
             "colorbar": {
              "outlinewidth": 0,
              "ticks": ""
             }
            },
            "type": "scatter3d"
           }
          ],
          "scattercarpet": [
           {
            "marker": {
             "colorbar": {
              "outlinewidth": 0,
              "ticks": ""
             }
            },
            "type": "scattercarpet"
           }
          ],
          "scattergeo": [
           {
            "marker": {
             "colorbar": {
              "outlinewidth": 0,
              "ticks": ""
             }
            },
            "type": "scattergeo"
           }
          ],
          "scattergl": [
           {
            "marker": {
             "line": {
              "color": "#283442"
             }
            },
            "type": "scattergl"
           }
          ],
          "scattermapbox": [
           {
            "marker": {
             "colorbar": {
              "outlinewidth": 0,
              "ticks": ""
             }
            },
            "type": "scattermapbox"
           }
          ],
          "scatterpolar": [
           {
            "marker": {
             "colorbar": {
              "outlinewidth": 0,
              "ticks": ""
             }
            },
            "type": "scatterpolar"
           }
          ],
          "scatterpolargl": [
           {
            "marker": {
             "colorbar": {
              "outlinewidth": 0,
              "ticks": ""
             }
            },
            "type": "scatterpolargl"
           }
          ],
          "scatterternary": [
           {
            "marker": {
             "colorbar": {
              "outlinewidth": 0,
              "ticks": ""
             }
            },
            "type": "scatterternary"
           }
          ],
          "surface": [
           {
            "colorbar": {
             "outlinewidth": 0,
             "ticks": ""
            },
            "colorscale": [
             [
              0,
              "#0d0887"
             ],
             [
              0.1111111111111111,
              "#46039f"
             ],
             [
              0.2222222222222222,
              "#7201a8"
             ],
             [
              0.3333333333333333,
              "#9c179e"
             ],
             [
              0.4444444444444444,
              "#bd3786"
             ],
             [
              0.5555555555555556,
              "#d8576b"
             ],
             [
              0.6666666666666666,
              "#ed7953"
             ],
             [
              0.7777777777777778,
              "#fb9f3a"
             ],
             [
              0.8888888888888888,
              "#fdca26"
             ],
             [
              1,
              "#f0f921"
             ]
            ],
            "type": "surface"
           }
          ],
          "table": [
           {
            "cells": {
             "fill": {
              "color": "#506784"
             },
             "line": {
              "color": "rgb(17,17,17)"
             }
            },
            "header": {
             "fill": {
              "color": "#2a3f5f"
             },
             "line": {
              "color": "rgb(17,17,17)"
             }
            },
            "type": "table"
           }
          ]
         },
         "layout": {
          "annotationdefaults": {
           "arrowcolor": "#f2f5fa",
           "arrowhead": 0,
           "arrowwidth": 1
          },
          "autotypenumbers": "strict",
          "coloraxis": {
           "colorbar": {
            "outlinewidth": 0,
            "ticks": ""
           }
          },
          "colorscale": {
           "diverging": [
            [
             0,
             "#8e0152"
            ],
            [
             0.1,
             "#c51b7d"
            ],
            [
             0.2,
             "#de77ae"
            ],
            [
             0.3,
             "#f1b6da"
            ],
            [
             0.4,
             "#fde0ef"
            ],
            [
             0.5,
             "#f7f7f7"
            ],
            [
             0.6,
             "#e6f5d0"
            ],
            [
             0.7,
             "#b8e186"
            ],
            [
             0.8,
             "#7fbc41"
            ],
            [
             0.9,
             "#4d9221"
            ],
            [
             1,
             "#276419"
            ]
           ],
           "sequential": [
            [
             0,
             "#0d0887"
            ],
            [
             0.1111111111111111,
             "#46039f"
            ],
            [
             0.2222222222222222,
             "#7201a8"
            ],
            [
             0.3333333333333333,
             "#9c179e"
            ],
            [
             0.4444444444444444,
             "#bd3786"
            ],
            [
             0.5555555555555556,
             "#d8576b"
            ],
            [
             0.6666666666666666,
             "#ed7953"
            ],
            [
             0.7777777777777778,
             "#fb9f3a"
            ],
            [
             0.8888888888888888,
             "#fdca26"
            ],
            [
             1,
             "#f0f921"
            ]
           ],
           "sequentialminus": [
            [
             0,
             "#0d0887"
            ],
            [
             0.1111111111111111,
             "#46039f"
            ],
            [
             0.2222222222222222,
             "#7201a8"
            ],
            [
             0.3333333333333333,
             "#9c179e"
            ],
            [
             0.4444444444444444,
             "#bd3786"
            ],
            [
             0.5555555555555556,
             "#d8576b"
            ],
            [
             0.6666666666666666,
             "#ed7953"
            ],
            [
             0.7777777777777778,
             "#fb9f3a"
            ],
            [
             0.8888888888888888,
             "#fdca26"
            ],
            [
             1,
             "#f0f921"
            ]
           ]
          },
          "colorway": [
           "#636efa",
           "#EF553B",
           "#00cc96",
           "#ab63fa",
           "#FFA15A",
           "#19d3f3",
           "#FF6692",
           "#B6E880",
           "#FF97FF",
           "#FECB52"
          ],
          "font": {
           "color": "#f2f5fa"
          },
          "geo": {
           "bgcolor": "rgb(17,17,17)",
           "lakecolor": "rgb(17,17,17)",
           "landcolor": "rgb(17,17,17)",
           "showlakes": true,
           "showland": true,
           "subunitcolor": "#506784"
          },
          "hoverlabel": {
           "align": "left"
          },
          "hovermode": "closest",
          "mapbox": {
           "style": "dark"
          },
          "paper_bgcolor": "rgb(17,17,17)",
          "plot_bgcolor": "rgb(17,17,17)",
          "polar": {
           "angularaxis": {
            "gridcolor": "#506784",
            "linecolor": "#506784",
            "ticks": ""
           },
           "bgcolor": "rgb(17,17,17)",
           "radialaxis": {
            "gridcolor": "#506784",
            "linecolor": "#506784",
            "ticks": ""
           }
          },
          "scene": {
           "xaxis": {
            "backgroundcolor": "rgb(17,17,17)",
            "gridcolor": "#506784",
            "gridwidth": 2,
            "linecolor": "#506784",
            "showbackground": true,
            "ticks": "",
            "zerolinecolor": "#C8D4E3"
           },
           "yaxis": {
            "backgroundcolor": "rgb(17,17,17)",
            "gridcolor": "#506784",
            "gridwidth": 2,
            "linecolor": "#506784",
            "showbackground": true,
            "ticks": "",
            "zerolinecolor": "#C8D4E3"
           },
           "zaxis": {
            "backgroundcolor": "rgb(17,17,17)",
            "gridcolor": "#506784",
            "gridwidth": 2,
            "linecolor": "#506784",
            "showbackground": true,
            "ticks": "",
            "zerolinecolor": "#C8D4E3"
           }
          },
          "shapedefaults": {
           "line": {
            "color": "#f2f5fa"
           }
          },
          "sliderdefaults": {
           "bgcolor": "#C8D4E3",
           "bordercolor": "rgb(17,17,17)",
           "borderwidth": 1,
           "tickwidth": 0
          },
          "ternary": {
           "aaxis": {
            "gridcolor": "#506784",
            "linecolor": "#506784",
            "ticks": ""
           },
           "baxis": {
            "gridcolor": "#506784",
            "linecolor": "#506784",
            "ticks": ""
           },
           "bgcolor": "rgb(17,17,17)",
           "caxis": {
            "gridcolor": "#506784",
            "linecolor": "#506784",
            "ticks": ""
           }
          },
          "title": {
           "x": 0.05
          },
          "updatemenudefaults": {
           "bgcolor": "#506784",
           "borderwidth": 0
          },
          "xaxis": {
           "automargin": true,
           "gridcolor": "#283442",
           "linecolor": "#506784",
           "ticks": "",
           "title": {
            "standoff": 15
           },
           "zerolinecolor": "#283442",
           "zerolinewidth": 2
          },
          "yaxis": {
           "automargin": true,
           "gridcolor": "#283442",
           "linecolor": "#506784",
           "ticks": "",
           "title": {
            "standoff": 15
           },
           "zerolinecolor": "#283442",
           "zerolinewidth": 2
          }
         }
        },
        "title": {
         "text": "Pick up hour=2024-09-19 00:00:00, location_id=48"
        },
        "xaxis": {
         "anchor": "y",
         "domain": [
          0,
          1
         ],
         "title": {
          "text": "x"
         }
        },
        "yaxis": {
         "anchor": "x",
         "domain": [
          0,
          1
         ],
         "title": {
          "text": "y"
         }
        }
       }
      }
     },
     "metadata": {},
     "output_type": "display_data"
    }
   ],
   "source": [
    "from src.plot import plot_one_sample\n",
    "\n",
    "plot_one_sample(\n",
    "    features=X_test,\n",
    "    targets=y_test,\n",
    "    example_id=2977,\n",
    "    predictions=pd.Series(predictions)\n",
    ")"
   ]
  },
  {
   "cell_type": "code",
   "execution_count": 14,
   "metadata": {},
   "outputs": [
    {
     "data": {
      "application/vnd.plotly.v1+json": {
       "config": {
        "plotlyServerURL": "https://plot.ly"
       },
       "data": [
        {
         "hovertemplate": "x=%{x}<br>y=%{y}<extra></extra>",
         "legendgroup": "",
         "line": {
          "color": "#636efa",
          "dash": "solid"
         },
         "marker": {
          "symbol": "circle"
         },
         "mode": "lines+markers",
         "name": "",
         "orientation": "v",
         "showlegend": false,
         "type": "scatter",
         "x": [
          "2024-10-12T00:00:00",
          "2024-10-12T01:00:00",
          "2024-10-12T02:00:00",
          "2024-10-12T03:00:00",
          "2024-10-12T04:00:00",
          "2024-10-12T05:00:00",
          "2024-10-12T06:00:00",
          "2024-10-12T07:00:00",
          "2024-10-12T08:00:00",
          "2024-10-12T09:00:00",
          "2024-10-12T10:00:00",
          "2024-10-12T11:00:00",
          "2024-10-12T12:00:00",
          "2024-10-12T13:00:00",
          "2024-10-12T14:00:00",
          "2024-10-12T15:00:00",
          "2024-10-12T16:00:00",
          "2024-10-12T17:00:00",
          "2024-10-12T18:00:00",
          "2024-10-12T19:00:00",
          "2024-10-12T20:00:00",
          "2024-10-12T21:00:00",
          "2024-10-12T22:00:00",
          "2024-10-12T23:00:00",
          "2024-10-13T00:00:00",
          "2024-10-13T01:00:00",
          "2024-10-13T02:00:00",
          "2024-10-13T03:00:00",
          "2024-10-13T04:00:00",
          "2024-10-13T05:00:00",
          "2024-10-13T06:00:00",
          "2024-10-13T07:00:00",
          "2024-10-13T08:00:00",
          "2024-10-13T09:00:00",
          "2024-10-13T10:00:00",
          "2024-10-13T11:00:00",
          "2024-10-13T12:00:00",
          "2024-10-13T13:00:00",
          "2024-10-13T14:00:00",
          "2024-10-13T15:00:00",
          "2024-10-13T16:00:00",
          "2024-10-13T17:00:00",
          "2024-10-13T18:00:00",
          "2024-10-13T19:00:00",
          "2024-10-13T20:00:00",
          "2024-10-13T21:00:00",
          "2024-10-13T22:00:00",
          "2024-10-13T23:00:00",
          "2024-10-14T00:00:00",
          "2024-10-14T01:00:00",
          "2024-10-14T02:00:00",
          "2024-10-14T03:00:00",
          "2024-10-14T04:00:00",
          "2024-10-14T05:00:00",
          "2024-10-14T06:00:00",
          "2024-10-14T07:00:00",
          "2024-10-14T08:00:00",
          "2024-10-14T09:00:00",
          "2024-10-14T10:00:00",
          "2024-10-14T11:00:00",
          "2024-10-14T12:00:00",
          "2024-10-14T13:00:00",
          "2024-10-14T14:00:00",
          "2024-10-14T15:00:00",
          "2024-10-14T16:00:00",
          "2024-10-14T17:00:00",
          "2024-10-14T18:00:00",
          "2024-10-14T19:00:00",
          "2024-10-14T20:00:00",
          "2024-10-14T21:00:00",
          "2024-10-14T22:00:00",
          "2024-10-14T23:00:00",
          "2024-10-15T00:00:00",
          "2024-10-15T01:00:00",
          "2024-10-15T02:00:00",
          "2024-10-15T03:00:00",
          "2024-10-15T04:00:00",
          "2024-10-15T05:00:00",
          "2024-10-15T06:00:00",
          "2024-10-15T07:00:00",
          "2024-10-15T08:00:00",
          "2024-10-15T09:00:00",
          "2024-10-15T10:00:00",
          "2024-10-15T11:00:00",
          "2024-10-15T12:00:00",
          "2024-10-15T13:00:00",
          "2024-10-15T14:00:00",
          "2024-10-15T15:00:00",
          "2024-10-15T16:00:00",
          "2024-10-15T17:00:00",
          "2024-10-15T18:00:00",
          "2024-10-15T19:00:00",
          "2024-10-15T20:00:00",
          "2024-10-15T21:00:00",
          "2024-10-15T22:00:00",
          "2024-10-15T23:00:00",
          "2024-10-16T00:00:00",
          "2024-10-16T01:00:00",
          "2024-10-16T02:00:00",
          "2024-10-16T03:00:00",
          "2024-10-16T04:00:00",
          "2024-10-16T05:00:00",
          "2024-10-16T06:00:00",
          "2024-10-16T07:00:00",
          "2024-10-16T08:00:00",
          "2024-10-16T09:00:00",
          "2024-10-16T10:00:00",
          "2024-10-16T11:00:00",
          "2024-10-16T12:00:00",
          "2024-10-16T13:00:00",
          "2024-10-16T14:00:00",
          "2024-10-16T15:00:00",
          "2024-10-16T16:00:00",
          "2024-10-16T17:00:00",
          "2024-10-16T18:00:00",
          "2024-10-16T19:00:00",
          "2024-10-16T20:00:00",
          "2024-10-16T21:00:00",
          "2024-10-16T22:00:00",
          "2024-10-16T23:00:00",
          "2024-10-17T00:00:00",
          "2024-10-17T01:00:00",
          "2024-10-17T02:00:00",
          "2024-10-17T03:00:00",
          "2024-10-17T04:00:00",
          "2024-10-17T05:00:00",
          "2024-10-17T06:00:00",
          "2024-10-17T07:00:00",
          "2024-10-17T08:00:00",
          "2024-10-17T09:00:00",
          "2024-10-17T10:00:00",
          "2024-10-17T11:00:00",
          "2024-10-17T12:00:00",
          "2024-10-17T13:00:00",
          "2024-10-17T14:00:00",
          "2024-10-17T15:00:00",
          "2024-10-17T16:00:00",
          "2024-10-17T17:00:00",
          "2024-10-17T18:00:00",
          "2024-10-17T19:00:00",
          "2024-10-17T20:00:00",
          "2024-10-17T21:00:00",
          "2024-10-17T22:00:00",
          "2024-10-17T23:00:00",
          "2024-10-18T00:00:00",
          "2024-10-18T01:00:00",
          "2024-10-18T02:00:00",
          "2024-10-18T03:00:00",
          "2024-10-18T04:00:00",
          "2024-10-18T05:00:00",
          "2024-10-18T06:00:00",
          "2024-10-18T07:00:00",
          "2024-10-18T08:00:00",
          "2024-10-18T09:00:00",
          "2024-10-18T10:00:00",
          "2024-10-18T11:00:00",
          "2024-10-18T12:00:00",
          "2024-10-18T13:00:00",
          "2024-10-18T14:00:00",
          "2024-10-18T15:00:00",
          "2024-10-18T16:00:00",
          "2024-10-18T17:00:00",
          "2024-10-18T18:00:00",
          "2024-10-18T19:00:00",
          "2024-10-18T20:00:00",
          "2024-10-18T21:00:00",
          "2024-10-18T22:00:00",
          "2024-10-18T23:00:00",
          "2024-10-19T00:00:00",
          "2024-10-19T01:00:00",
          "2024-10-19T02:00:00",
          "2024-10-19T03:00:00",
          "2024-10-19T04:00:00",
          "2024-10-19T05:00:00",
          "2024-10-19T06:00:00",
          "2024-10-19T07:00:00",
          "2024-10-19T08:00:00",
          "2024-10-19T09:00:00",
          "2024-10-19T10:00:00",
          "2024-10-19T11:00:00",
          "2024-10-19T12:00:00",
          "2024-10-19T13:00:00",
          "2024-10-19T14:00:00",
          "2024-10-19T15:00:00",
          "2024-10-19T16:00:00",
          "2024-10-19T17:00:00",
          "2024-10-19T18:00:00",
          "2024-10-19T19:00:00",
          "2024-10-19T20:00:00",
          "2024-10-19T21:00:00",
          "2024-10-19T22:00:00",
          "2024-10-19T23:00:00",
          "2024-10-20T00:00:00",
          "2024-10-20T01:00:00",
          "2024-10-20T02:00:00",
          "2024-10-20T03:00:00",
          "2024-10-20T04:00:00",
          "2024-10-20T05:00:00",
          "2024-10-20T06:00:00",
          "2024-10-20T07:00:00",
          "2024-10-20T08:00:00",
          "2024-10-20T09:00:00",
          "2024-10-20T10:00:00",
          "2024-10-20T11:00:00",
          "2024-10-20T12:00:00",
          "2024-10-20T13:00:00",
          "2024-10-20T14:00:00",
          "2024-10-20T15:00:00",
          "2024-10-20T16:00:00",
          "2024-10-20T17:00:00",
          "2024-10-20T18:00:00",
          "2024-10-20T19:00:00",
          "2024-10-20T20:00:00",
          "2024-10-20T21:00:00",
          "2024-10-20T22:00:00",
          "2024-10-20T23:00:00",
          "2024-10-21T00:00:00",
          "2024-10-21T01:00:00",
          "2024-10-21T02:00:00",
          "2024-10-21T03:00:00",
          "2024-10-21T04:00:00",
          "2024-10-21T05:00:00",
          "2024-10-21T06:00:00",
          "2024-10-21T07:00:00",
          "2024-10-21T08:00:00",
          "2024-10-21T09:00:00",
          "2024-10-21T10:00:00",
          "2024-10-21T11:00:00",
          "2024-10-21T12:00:00",
          "2024-10-21T13:00:00",
          "2024-10-21T14:00:00",
          "2024-10-21T15:00:00",
          "2024-10-21T16:00:00",
          "2024-10-21T17:00:00",
          "2024-10-21T18:00:00",
          "2024-10-21T19:00:00",
          "2024-10-21T20:00:00",
          "2024-10-21T21:00:00",
          "2024-10-21T22:00:00",
          "2024-10-21T23:00:00",
          "2024-10-22T00:00:00",
          "2024-10-22T01:00:00",
          "2024-10-22T02:00:00",
          "2024-10-22T03:00:00",
          "2024-10-22T04:00:00",
          "2024-10-22T05:00:00",
          "2024-10-22T06:00:00",
          "2024-10-22T07:00:00",
          "2024-10-22T08:00:00",
          "2024-10-22T09:00:00",
          "2024-10-22T10:00:00",
          "2024-10-22T11:00:00",
          "2024-10-22T12:00:00",
          "2024-10-22T13:00:00",
          "2024-10-22T14:00:00",
          "2024-10-22T15:00:00",
          "2024-10-22T16:00:00",
          "2024-10-22T17:00:00",
          "2024-10-22T18:00:00",
          "2024-10-22T19:00:00",
          "2024-10-22T20:00:00",
          "2024-10-22T21:00:00",
          "2024-10-22T22:00:00",
          "2024-10-22T23:00:00",
          "2024-10-23T00:00:00",
          "2024-10-23T01:00:00",
          "2024-10-23T02:00:00",
          "2024-10-23T03:00:00",
          "2024-10-23T04:00:00",
          "2024-10-23T05:00:00",
          "2024-10-23T06:00:00",
          "2024-10-23T07:00:00",
          "2024-10-23T08:00:00",
          "2024-10-23T09:00:00",
          "2024-10-23T10:00:00",
          "2024-10-23T11:00:00",
          "2024-10-23T12:00:00",
          "2024-10-23T13:00:00",
          "2024-10-23T14:00:00",
          "2024-10-23T15:00:00",
          "2024-10-23T16:00:00",
          "2024-10-23T17:00:00",
          "2024-10-23T18:00:00",
          "2024-10-23T19:00:00",
          "2024-10-23T20:00:00",
          "2024-10-23T21:00:00",
          "2024-10-23T22:00:00",
          "2024-10-23T23:00:00",
          "2024-10-24T00:00:00",
          "2024-10-24T01:00:00",
          "2024-10-24T02:00:00",
          "2024-10-24T03:00:00",
          "2024-10-24T04:00:00",
          "2024-10-24T05:00:00",
          "2024-10-24T06:00:00",
          "2024-10-24T07:00:00",
          "2024-10-24T08:00:00",
          "2024-10-24T09:00:00",
          "2024-10-24T10:00:00",
          "2024-10-24T11:00:00",
          "2024-10-24T12:00:00",
          "2024-10-24T13:00:00",
          "2024-10-24T14:00:00",
          "2024-10-24T15:00:00",
          "2024-10-24T16:00:00",
          "2024-10-24T17:00:00",
          "2024-10-24T18:00:00",
          "2024-10-24T19:00:00",
          "2024-10-24T20:00:00",
          "2024-10-24T21:00:00",
          "2024-10-24T22:00:00",
          "2024-10-24T23:00:00",
          "2024-10-25T00:00:00",
          "2024-10-25T01:00:00",
          "2024-10-25T02:00:00",
          "2024-10-25T03:00:00",
          "2024-10-25T04:00:00",
          "2024-10-25T05:00:00",
          "2024-10-25T06:00:00",
          "2024-10-25T07:00:00",
          "2024-10-25T08:00:00",
          "2024-10-25T09:00:00",
          "2024-10-25T10:00:00",
          "2024-10-25T11:00:00",
          "2024-10-25T12:00:00",
          "2024-10-25T13:00:00",
          "2024-10-25T14:00:00",
          "2024-10-25T15:00:00",
          "2024-10-25T16:00:00",
          "2024-10-25T17:00:00",
          "2024-10-25T18:00:00",
          "2024-10-25T19:00:00",
          "2024-10-25T20:00:00",
          "2024-10-25T21:00:00",
          "2024-10-25T22:00:00",
          "2024-10-25T23:00:00",
          "2024-10-26T00:00:00",
          "2024-10-26T01:00:00",
          "2024-10-26T02:00:00",
          "2024-10-26T03:00:00",
          "2024-10-26T04:00:00",
          "2024-10-26T05:00:00",
          "2024-10-26T06:00:00",
          "2024-10-26T07:00:00",
          "2024-10-26T08:00:00",
          "2024-10-26T09:00:00",
          "2024-10-26T10:00:00",
          "2024-10-26T11:00:00",
          "2024-10-26T12:00:00",
          "2024-10-26T13:00:00",
          "2024-10-26T14:00:00",
          "2024-10-26T15:00:00",
          "2024-10-26T16:00:00",
          "2024-10-26T17:00:00",
          "2024-10-26T18:00:00",
          "2024-10-26T19:00:00",
          "2024-10-26T20:00:00",
          "2024-10-26T21:00:00",
          "2024-10-26T22:00:00",
          "2024-10-26T23:00:00",
          "2024-10-27T00:00:00",
          "2024-10-27T01:00:00",
          "2024-10-27T02:00:00",
          "2024-10-27T03:00:00",
          "2024-10-27T04:00:00",
          "2024-10-27T05:00:00",
          "2024-10-27T06:00:00",
          "2024-10-27T07:00:00",
          "2024-10-27T08:00:00",
          "2024-10-27T09:00:00",
          "2024-10-27T10:00:00",
          "2024-10-27T11:00:00",
          "2024-10-27T12:00:00",
          "2024-10-27T13:00:00",
          "2024-10-27T14:00:00",
          "2024-10-27T15:00:00",
          "2024-10-27T16:00:00",
          "2024-10-27T17:00:00",
          "2024-10-27T18:00:00",
          "2024-10-27T19:00:00",
          "2024-10-27T20:00:00",
          "2024-10-27T21:00:00",
          "2024-10-27T22:00:00",
          "2024-10-27T23:00:00",
          "2024-10-28T00:00:00",
          "2024-10-28T01:00:00",
          "2024-10-28T02:00:00",
          "2024-10-28T03:00:00",
          "2024-10-28T04:00:00",
          "2024-10-28T05:00:00",
          "2024-10-28T06:00:00",
          "2024-10-28T07:00:00",
          "2024-10-28T08:00:00",
          "2024-10-28T09:00:00",
          "2024-10-28T10:00:00",
          "2024-10-28T11:00:00",
          "2024-10-28T12:00:00",
          "2024-10-28T13:00:00",
          "2024-10-28T14:00:00",
          "2024-10-28T15:00:00",
          "2024-10-28T16:00:00",
          "2024-10-28T17:00:00",
          "2024-10-28T18:00:00",
          "2024-10-28T19:00:00",
          "2024-10-28T20:00:00",
          "2024-10-28T21:00:00",
          "2024-10-28T22:00:00",
          "2024-10-28T23:00:00",
          "2024-10-29T00:00:00",
          "2024-10-29T01:00:00",
          "2024-10-29T02:00:00",
          "2024-10-29T03:00:00",
          "2024-10-29T04:00:00",
          "2024-10-29T05:00:00",
          "2024-10-29T06:00:00",
          "2024-10-29T07:00:00",
          "2024-10-29T08:00:00",
          "2024-10-29T09:00:00",
          "2024-10-29T10:00:00",
          "2024-10-29T11:00:00",
          "2024-10-29T12:00:00",
          "2024-10-29T13:00:00",
          "2024-10-29T14:00:00",
          "2024-10-29T15:00:00",
          "2024-10-29T16:00:00",
          "2024-10-29T17:00:00",
          "2024-10-29T18:00:00",
          "2024-10-29T19:00:00",
          "2024-10-29T20:00:00",
          "2024-10-29T21:00:00",
          "2024-10-29T22:00:00",
          "2024-10-29T23:00:00",
          "2024-10-30T00:00:00",
          "2024-10-30T01:00:00",
          "2024-10-30T02:00:00",
          "2024-10-30T03:00:00",
          "2024-10-30T04:00:00",
          "2024-10-30T05:00:00",
          "2024-10-30T06:00:00",
          "2024-10-30T07:00:00",
          "2024-10-30T08:00:00",
          "2024-10-30T09:00:00",
          "2024-10-30T10:00:00",
          "2024-10-30T11:00:00",
          "2024-10-30T12:00:00",
          "2024-10-30T13:00:00",
          "2024-10-30T14:00:00",
          "2024-10-30T15:00:00",
          "2024-10-30T16:00:00",
          "2024-10-30T17:00:00",
          "2024-10-30T18:00:00",
          "2024-10-30T19:00:00",
          "2024-10-30T20:00:00",
          "2024-10-30T21:00:00",
          "2024-10-30T22:00:00",
          "2024-10-30T23:00:00",
          "2024-10-31T00:00:00",
          "2024-10-31T01:00:00",
          "2024-10-31T02:00:00",
          "2024-10-31T03:00:00",
          "2024-10-31T04:00:00",
          "2024-10-31T05:00:00",
          "2024-10-31T06:00:00",
          "2024-10-31T07:00:00",
          "2024-10-31T08:00:00",
          "2024-10-31T09:00:00",
          "2024-10-31T10:00:00",
          "2024-10-31T11:00:00",
          "2024-10-31T12:00:00",
          "2024-10-31T13:00:00",
          "2024-10-31T14:00:00",
          "2024-10-31T15:00:00",
          "2024-10-31T16:00:00",
          "2024-10-31T17:00:00",
          "2024-10-31T18:00:00",
          "2024-10-31T19:00:00",
          "2024-10-31T20:00:00",
          "2024-10-31T21:00:00",
          "2024-10-31T22:00:00",
          "2024-10-31T23:00:00",
          "2024-11-01T00:00:00",
          "2024-11-01T01:00:00",
          "2024-11-01T02:00:00",
          "2024-11-01T03:00:00",
          "2024-11-01T04:00:00",
          "2024-11-01T05:00:00",
          "2024-11-01T06:00:00",
          "2024-11-01T07:00:00",
          "2024-11-01T08:00:00",
          "2024-11-01T09:00:00",
          "2024-11-01T10:00:00",
          "2024-11-01T11:00:00",
          "2024-11-01T12:00:00",
          "2024-11-01T13:00:00",
          "2024-11-01T14:00:00",
          "2024-11-01T15:00:00",
          "2024-11-01T16:00:00",
          "2024-11-01T17:00:00",
          "2024-11-01T18:00:00",
          "2024-11-01T19:00:00",
          "2024-11-01T20:00:00",
          "2024-11-01T21:00:00",
          "2024-11-01T22:00:00",
          "2024-11-01T23:00:00",
          "2024-11-02T00:00:00",
          "2024-11-02T01:00:00",
          "2024-11-02T02:00:00",
          "2024-11-02T03:00:00",
          "2024-11-02T04:00:00",
          "2024-11-02T05:00:00",
          "2024-11-02T06:00:00",
          "2024-11-02T07:00:00",
          "2024-11-02T08:00:00",
          "2024-11-02T09:00:00",
          "2024-11-02T10:00:00",
          "2024-11-02T11:00:00",
          "2024-11-02T12:00:00",
          "2024-11-02T13:00:00",
          "2024-11-02T14:00:00",
          "2024-11-02T15:00:00",
          "2024-11-02T16:00:00",
          "2024-11-02T17:00:00",
          "2024-11-02T18:00:00",
          "2024-11-02T19:00:00",
          "2024-11-02T20:00:00",
          "2024-11-02T21:00:00",
          "2024-11-02T22:00:00",
          "2024-11-02T23:00:00",
          "2024-11-03T00:00:00",
          "2024-11-03T01:00:00",
          "2024-11-03T02:00:00",
          "2024-11-03T03:00:00",
          "2024-11-03T04:00:00",
          "2024-11-03T05:00:00",
          "2024-11-03T06:00:00",
          "2024-11-03T07:00:00",
          "2024-11-03T08:00:00",
          "2024-11-03T09:00:00",
          "2024-11-03T10:00:00",
          "2024-11-03T11:00:00",
          "2024-11-03T12:00:00",
          "2024-11-03T13:00:00",
          "2024-11-03T14:00:00",
          "2024-11-03T15:00:00",
          "2024-11-03T16:00:00",
          "2024-11-03T17:00:00",
          "2024-11-03T18:00:00",
          "2024-11-03T19:00:00",
          "2024-11-03T20:00:00",
          "2024-11-03T21:00:00",
          "2024-11-03T22:00:00",
          "2024-11-03T23:00:00",
          "2024-11-04T00:00:00",
          "2024-11-04T01:00:00",
          "2024-11-04T02:00:00",
          "2024-11-04T03:00:00",
          "2024-11-04T04:00:00",
          "2024-11-04T05:00:00",
          "2024-11-04T06:00:00",
          "2024-11-04T07:00:00",
          "2024-11-04T08:00:00",
          "2024-11-04T09:00:00",
          "2024-11-04T10:00:00",
          "2024-11-04T11:00:00",
          "2024-11-04T12:00:00",
          "2024-11-04T13:00:00",
          "2024-11-04T14:00:00",
          "2024-11-04T15:00:00",
          "2024-11-04T16:00:00",
          "2024-11-04T17:00:00",
          "2024-11-04T18:00:00",
          "2024-11-04T19:00:00",
          "2024-11-04T20:00:00",
          "2024-11-04T21:00:00",
          "2024-11-04T22:00:00",
          "2024-11-04T23:00:00",
          "2024-11-05T00:00:00",
          "2024-11-05T01:00:00",
          "2024-11-05T02:00:00",
          "2024-11-05T03:00:00",
          "2024-11-05T04:00:00",
          "2024-11-05T05:00:00",
          "2024-11-05T06:00:00",
          "2024-11-05T07:00:00",
          "2024-11-05T08:00:00",
          "2024-11-05T09:00:00",
          "2024-11-05T10:00:00",
          "2024-11-05T11:00:00",
          "2024-11-05T12:00:00",
          "2024-11-05T13:00:00",
          "2024-11-05T14:00:00",
          "2024-11-05T15:00:00",
          "2024-11-05T16:00:00",
          "2024-11-05T17:00:00",
          "2024-11-05T18:00:00",
          "2024-11-05T19:00:00",
          "2024-11-05T20:00:00",
          "2024-11-05T21:00:00",
          "2024-11-05T22:00:00",
          "2024-11-05T23:00:00",
          "2024-11-06T00:00:00",
          "2024-11-06T01:00:00",
          "2024-11-06T02:00:00",
          "2024-11-06T03:00:00",
          "2024-11-06T04:00:00",
          "2024-11-06T05:00:00",
          "2024-11-06T06:00:00",
          "2024-11-06T07:00:00",
          "2024-11-06T08:00:00",
          "2024-11-06T09:00:00",
          "2024-11-06T10:00:00",
          "2024-11-06T11:00:00",
          "2024-11-06T12:00:00",
          "2024-11-06T13:00:00",
          "2024-11-06T14:00:00",
          "2024-11-06T15:00:00",
          "2024-11-06T16:00:00",
          "2024-11-06T17:00:00",
          "2024-11-06T18:00:00",
          "2024-11-06T19:00:00",
          "2024-11-06T20:00:00",
          "2024-11-06T21:00:00",
          "2024-11-06T22:00:00",
          "2024-11-06T23:00:00",
          "2024-11-07T00:00:00",
          "2024-11-07T01:00:00",
          "2024-11-07T02:00:00",
          "2024-11-07T03:00:00",
          "2024-11-07T04:00:00",
          "2024-11-07T05:00:00",
          "2024-11-07T06:00:00",
          "2024-11-07T07:00:00",
          "2024-11-07T08:00:00",
          "2024-11-07T09:00:00",
          "2024-11-07T10:00:00",
          "2024-11-07T11:00:00",
          "2024-11-07T12:00:00",
          "2024-11-07T13:00:00",
          "2024-11-07T14:00:00",
          "2024-11-07T15:00:00",
          "2024-11-07T16:00:00",
          "2024-11-07T17:00:00",
          "2024-11-07T18:00:00",
          "2024-11-07T19:00:00",
          "2024-11-07T20:00:00",
          "2024-11-07T21:00:00",
          "2024-11-07T22:00:00",
          "2024-11-07T23:00:00",
          "2024-11-08T00:00:00",
          "2024-11-08T01:00:00",
          "2024-11-08T02:00:00",
          "2024-11-08T03:00:00",
          "2024-11-08T04:00:00",
          "2024-11-08T05:00:00",
          "2024-11-08T06:00:00",
          "2024-11-08T07:00:00",
          "2024-11-08T08:00:00",
          "2024-11-08T09:00:00",
          "2024-11-08T10:00:00",
          "2024-11-08T11:00:00",
          "2024-11-08T12:00:00",
          "2024-11-08T13:00:00",
          "2024-11-08T14:00:00",
          "2024-11-08T15:00:00",
          "2024-11-08T16:00:00",
          "2024-11-08T17:00:00",
          "2024-11-08T18:00:00",
          "2024-11-08T19:00:00",
          "2024-11-08T20:00:00",
          "2024-11-08T21:00:00",
          "2024-11-08T22:00:00",
          "2024-11-08T23:00:00",
          "2024-11-09T00:00:00"
         ],
         "xaxis": "x",
         "y": [
          83,
          92,
          81,
          50,
          20,
          1,
          3,
          1,
          5,
          8,
          15,
          5,
          5,
          6,
          7,
          2,
          10,
          7,
          7,
          6,
          12,
          14,
          29,
          40,
          75,
          66,
          97,
          50,
          20,
          2,
          5,
          0,
          4,
          5,
          6,
          5,
          7,
          6,
          8,
          10,
          15,
          14,
          13,
          9,
          2,
          4,
          4,
          4,
          2,
          6,
          3,
          0,
          1,
          5,
          8,
          9,
          8,
          5,
          4,
          2,
          4,
          1,
          0,
          3,
          0,
          2,
          5,
          3,
          4,
          4,
          2,
          2,
          5,
          3,
          2,
          1,
          0,
          1,
          13,
          9,
          7,
          13,
          7,
          2,
          4,
          3,
          4,
          3,
          1,
          5,
          4,
          3,
          5,
          1,
          7,
          3,
          5,
          6,
          3,
          1,
          0,
          1,
          5,
          15,
          18,
          19,
          4,
          3,
          4,
          1,
          6,
          6,
          2,
          3,
          6,
          2,
          2,
          8,
          11,
          14,
          3,
          3,
          3,
          0,
          0,
          2,
          16,
          15,
          11,
          17,
          7,
          6,
          1,
          3,
          2,
          1,
          6,
          1,
          10,
          3,
          7,
          7,
          8,
          13,
          20,
          10,
          2,
          2,
          5,
          6,
          9,
          10,
          11,
          11,
          9,
          4,
          1,
          5,
          2,
          5,
          8,
          7,
          8,
          21,
          1,
          7,
          21,
          34,
          48,
          70,
          77,
          47,
          9,
          2,
          3,
          4,
          6,
          11,
          7,
          6,
          5,
          5,
          8,
          11,
          13,
          16,
          19,
          25,
          18,
          10,
          20,
          33,
          62,
          83,
          80,
          43,
          11,
          2,
          1,
          3,
          11,
          9,
          16,
          16,
          19,
          9,
          9,
          2,
          2,
          8,
          4,
          5,
          2,
          2,
          0,
          3,
          1,
          2,
          0,
          1,
          0,
          1,
          4,
          9,
          6,
          7,
          3,
          2,
          3,
          1,
          4,
          5,
          5,
          3,
          3,
          1,
          1,
          2,
          3,
          6,
          3,
          7,
          4,
          0,
          0,
          1,
          7,
          11,
          13,
          17,
          6,
          4,
          1,
          1,
          6,
          2,
          4,
          3,
          1,
          1,
          1,
          4,
          3,
          6,
          2,
          3,
          3,
          0,
          0,
          0,
          4,
          17,
          14,
          9,
          2,
          1,
          0,
          4,
          2,
          4,
          3,
          2,
          3,
          1,
          2,
          3,
          6,
          8,
          12,
          5,
          3,
          1,
          1,
          3,
          9,
          15,
          12,
          10,
          1,
          4,
          2,
          2,
          3,
          4,
          0,
          2,
          13,
          8,
          6,
          12,
          13,
          16,
          17,
          18,
          13,
          10,
          3,
          1,
          7,
          11,
          20,
          7,
          7,
          2,
          4,
          5,
          4,
          9,
          6,
          4,
          11,
          19,
          19,
          13,
          25,
          39,
          61,
          69,
          62,
          43,
          18,
          3,
          5,
          2,
          10,
          9,
          10,
          10,
          9,
          7,
          2,
          6,
          5,
          16,
          19,
          18,
          14,
          31,
          35,
          57,
          64,
          81,
          57,
          42,
          21,
          4,
          5,
          6,
          4,
          5,
          10,
          16,
          13,
          9,
          7,
          5,
          4,
          12,
          4,
          13,
          3,
          4,
          5,
          2,
          2,
          1,
          0,
          0,
          2,
          4,
          3,
          4,
          13,
          8,
          7,
          1,
          1,
          2,
          4,
          0,
          5,
          1,
          3,
          4,
          3,
          2,
          2,
          4,
          3,
          5,
          2,
          0,
          0,
          1,
          5,
          20,
          13,
          16,
          7,
          7,
          2,
          4,
          1,
          1,
          2,
          3,
          4,
          4,
          3,
          4,
          4,
          3,
          10,
          9,
          4,
          1,
          0,
          1,
          7,
          8,
          14,
          16,
          4,
          6,
          3,
          6,
          6,
          6,
          3,
          4,
          8,
          7,
          2,
          3,
          1,
          5,
          10,
          6,
          1,
          1,
          1,
          2,
          4,
          10,
          9,
          15,
          9,
          4,
          2,
          5,
          5,
          5,
          11,
          1,
          9,
          16,
          10,
          8,
          7,
          33,
          59,
          58,
          52,
          20,
          5,
          3,
          8,
          11,
          14,
          20,
          7,
          7,
          9,
          7,
          3,
          4,
          13,
          4,
          9,
          15,
          7,
          5,
          15,
          39,
          82,
          75,
          77,
          38,
          13,
          2,
          0,
          0,
          3,
          10,
          6,
          4,
          3,
          5,
          5,
          2,
          3,
          12,
          15,
          19,
          12,
          9,
          26,
          35,
          69,
          153,
          36,
          16,
          3,
          1,
          10,
          4,
          2,
          12,
          10,
          18,
          15,
          10,
          11,
          11,
          12,
          14,
          14,
          14,
          7,
          10,
          3,
          0,
          0,
          0,
          0,
          0,
          2,
          2,
          8,
          14,
          8,
          6,
          5,
          3,
          3,
          3,
          1,
          3,
          3,
          1,
          2,
          1,
          4,
          2,
          2,
          3,
          2,
          6,
          1,
          0,
          1,
          2,
          7,
          9,
          9,
          6,
          8,
          0,
          6,
          4,
          3,
          5,
          2,
          4,
          6,
          3,
          6,
          2,
          1,
          9,
          6,
          2,
          2,
          0,
          1,
          1,
          6,
          15,
          15,
          13,
          0,
          2,
          1,
          4,
          1,
          2,
          5,
          3,
          2,
          6,
          5,
          4,
          2,
          0,
          2,
          1,
          1,
          1,
          0,
          3,
          5,
          12,
          19,
          10,
          2,
          3,
          2,
          3,
          2,
          3,
          3,
          6,
          3,
          4,
          3,
          9,
          13,
          13,
          11,
          9,
          7,
          4,
          1,
          1,
          10,
          18,
          11,
          8,
          5,
          3,
          3,
          3,
          7,
          1,
          7,
          10,
          1,
          9,
          7,
          7,
          15,
          27,
          67
         ],
         "yaxis": "y"
        },
        {
         "line": {
          "color": "green"
         },
         "marker": {
          "size": 10
         },
         "mode": "markers",
         "name": "actual value",
         "type": "scatter",
         "x": [
          "2024-11-09T00:00:00"
         ],
         "y": [
          67
         ]
        },
        {
         "line": {
          "color": "red"
         },
         "marker": {
          "size": 15,
          "symbol": "x"
         },
         "mode": "markers",
         "name": "prediction",
         "type": "scatter",
         "x": [
          "2024-11-09T00:00:00"
         ],
         "y": [
          50.32630726071884
         ]
        }
       ],
       "layout": {
        "legend": {
         "tracegroupgap": 0
        },
        "template": {
         "data": {
          "bar": [
           {
            "error_x": {
             "color": "#f2f5fa"
            },
            "error_y": {
             "color": "#f2f5fa"
            },
            "marker": {
             "line": {
              "color": "rgb(17,17,17)",
              "width": 0.5
             },
             "pattern": {
              "fillmode": "overlay",
              "size": 10,
              "solidity": 0.2
             }
            },
            "type": "bar"
           }
          ],
          "barpolar": [
           {
            "marker": {
             "line": {
              "color": "rgb(17,17,17)",
              "width": 0.5
             },
             "pattern": {
              "fillmode": "overlay",
              "size": 10,
              "solidity": 0.2
             }
            },
            "type": "barpolar"
           }
          ],
          "carpet": [
           {
            "aaxis": {
             "endlinecolor": "#A2B1C6",
             "gridcolor": "#506784",
             "linecolor": "#506784",
             "minorgridcolor": "#506784",
             "startlinecolor": "#A2B1C6"
            },
            "baxis": {
             "endlinecolor": "#A2B1C6",
             "gridcolor": "#506784",
             "linecolor": "#506784",
             "minorgridcolor": "#506784",
             "startlinecolor": "#A2B1C6"
            },
            "type": "carpet"
           }
          ],
          "choropleth": [
           {
            "colorbar": {
             "outlinewidth": 0,
             "ticks": ""
            },
            "type": "choropleth"
           }
          ],
          "contour": [
           {
            "colorbar": {
             "outlinewidth": 0,
             "ticks": ""
            },
            "colorscale": [
             [
              0,
              "#0d0887"
             ],
             [
              0.1111111111111111,
              "#46039f"
             ],
             [
              0.2222222222222222,
              "#7201a8"
             ],
             [
              0.3333333333333333,
              "#9c179e"
             ],
             [
              0.4444444444444444,
              "#bd3786"
             ],
             [
              0.5555555555555556,
              "#d8576b"
             ],
             [
              0.6666666666666666,
              "#ed7953"
             ],
             [
              0.7777777777777778,
              "#fb9f3a"
             ],
             [
              0.8888888888888888,
              "#fdca26"
             ],
             [
              1,
              "#f0f921"
             ]
            ],
            "type": "contour"
           }
          ],
          "contourcarpet": [
           {
            "colorbar": {
             "outlinewidth": 0,
             "ticks": ""
            },
            "type": "contourcarpet"
           }
          ],
          "heatmap": [
           {
            "colorbar": {
             "outlinewidth": 0,
             "ticks": ""
            },
            "colorscale": [
             [
              0,
              "#0d0887"
             ],
             [
              0.1111111111111111,
              "#46039f"
             ],
             [
              0.2222222222222222,
              "#7201a8"
             ],
             [
              0.3333333333333333,
              "#9c179e"
             ],
             [
              0.4444444444444444,
              "#bd3786"
             ],
             [
              0.5555555555555556,
              "#d8576b"
             ],
             [
              0.6666666666666666,
              "#ed7953"
             ],
             [
              0.7777777777777778,
              "#fb9f3a"
             ],
             [
              0.8888888888888888,
              "#fdca26"
             ],
             [
              1,
              "#f0f921"
             ]
            ],
            "type": "heatmap"
           }
          ],
          "heatmapgl": [
           {
            "colorbar": {
             "outlinewidth": 0,
             "ticks": ""
            },
            "colorscale": [
             [
              0,
              "#0d0887"
             ],
             [
              0.1111111111111111,
              "#46039f"
             ],
             [
              0.2222222222222222,
              "#7201a8"
             ],
             [
              0.3333333333333333,
              "#9c179e"
             ],
             [
              0.4444444444444444,
              "#bd3786"
             ],
             [
              0.5555555555555556,
              "#d8576b"
             ],
             [
              0.6666666666666666,
              "#ed7953"
             ],
             [
              0.7777777777777778,
              "#fb9f3a"
             ],
             [
              0.8888888888888888,
              "#fdca26"
             ],
             [
              1,
              "#f0f921"
             ]
            ],
            "type": "heatmapgl"
           }
          ],
          "histogram": [
           {
            "marker": {
             "pattern": {
              "fillmode": "overlay",
              "size": 10,
              "solidity": 0.2
             }
            },
            "type": "histogram"
           }
          ],
          "histogram2d": [
           {
            "colorbar": {
             "outlinewidth": 0,
             "ticks": ""
            },
            "colorscale": [
             [
              0,
              "#0d0887"
             ],
             [
              0.1111111111111111,
              "#46039f"
             ],
             [
              0.2222222222222222,
              "#7201a8"
             ],
             [
              0.3333333333333333,
              "#9c179e"
             ],
             [
              0.4444444444444444,
              "#bd3786"
             ],
             [
              0.5555555555555556,
              "#d8576b"
             ],
             [
              0.6666666666666666,
              "#ed7953"
             ],
             [
              0.7777777777777778,
              "#fb9f3a"
             ],
             [
              0.8888888888888888,
              "#fdca26"
             ],
             [
              1,
              "#f0f921"
             ]
            ],
            "type": "histogram2d"
           }
          ],
          "histogram2dcontour": [
           {
            "colorbar": {
             "outlinewidth": 0,
             "ticks": ""
            },
            "colorscale": [
             [
              0,
              "#0d0887"
             ],
             [
              0.1111111111111111,
              "#46039f"
             ],
             [
              0.2222222222222222,
              "#7201a8"
             ],
             [
              0.3333333333333333,
              "#9c179e"
             ],
             [
              0.4444444444444444,
              "#bd3786"
             ],
             [
              0.5555555555555556,
              "#d8576b"
             ],
             [
              0.6666666666666666,
              "#ed7953"
             ],
             [
              0.7777777777777778,
              "#fb9f3a"
             ],
             [
              0.8888888888888888,
              "#fdca26"
             ],
             [
              1,
              "#f0f921"
             ]
            ],
            "type": "histogram2dcontour"
           }
          ],
          "mesh3d": [
           {
            "colorbar": {
             "outlinewidth": 0,
             "ticks": ""
            },
            "type": "mesh3d"
           }
          ],
          "parcoords": [
           {
            "line": {
             "colorbar": {
              "outlinewidth": 0,
              "ticks": ""
             }
            },
            "type": "parcoords"
           }
          ],
          "pie": [
           {
            "automargin": true,
            "type": "pie"
           }
          ],
          "scatter": [
           {
            "marker": {
             "line": {
              "color": "#283442"
             }
            },
            "type": "scatter"
           }
          ],
          "scatter3d": [
           {
            "line": {
             "colorbar": {
              "outlinewidth": 0,
              "ticks": ""
             }
            },
            "marker": {
             "colorbar": {
              "outlinewidth": 0,
              "ticks": ""
             }
            },
            "type": "scatter3d"
           }
          ],
          "scattercarpet": [
           {
            "marker": {
             "colorbar": {
              "outlinewidth": 0,
              "ticks": ""
             }
            },
            "type": "scattercarpet"
           }
          ],
          "scattergeo": [
           {
            "marker": {
             "colorbar": {
              "outlinewidth": 0,
              "ticks": ""
             }
            },
            "type": "scattergeo"
           }
          ],
          "scattergl": [
           {
            "marker": {
             "line": {
              "color": "#283442"
             }
            },
            "type": "scattergl"
           }
          ],
          "scattermapbox": [
           {
            "marker": {
             "colorbar": {
              "outlinewidth": 0,
              "ticks": ""
             }
            },
            "type": "scattermapbox"
           }
          ],
          "scatterpolar": [
           {
            "marker": {
             "colorbar": {
              "outlinewidth": 0,
              "ticks": ""
             }
            },
            "type": "scatterpolar"
           }
          ],
          "scatterpolargl": [
           {
            "marker": {
             "colorbar": {
              "outlinewidth": 0,
              "ticks": ""
             }
            },
            "type": "scatterpolargl"
           }
          ],
          "scatterternary": [
           {
            "marker": {
             "colorbar": {
              "outlinewidth": 0,
              "ticks": ""
             }
            },
            "type": "scatterternary"
           }
          ],
          "surface": [
           {
            "colorbar": {
             "outlinewidth": 0,
             "ticks": ""
            },
            "colorscale": [
             [
              0,
              "#0d0887"
             ],
             [
              0.1111111111111111,
              "#46039f"
             ],
             [
              0.2222222222222222,
              "#7201a8"
             ],
             [
              0.3333333333333333,
              "#9c179e"
             ],
             [
              0.4444444444444444,
              "#bd3786"
             ],
             [
              0.5555555555555556,
              "#d8576b"
             ],
             [
              0.6666666666666666,
              "#ed7953"
             ],
             [
              0.7777777777777778,
              "#fb9f3a"
             ],
             [
              0.8888888888888888,
              "#fdca26"
             ],
             [
              1,
              "#f0f921"
             ]
            ],
            "type": "surface"
           }
          ],
          "table": [
           {
            "cells": {
             "fill": {
              "color": "#506784"
             },
             "line": {
              "color": "rgb(17,17,17)"
             }
            },
            "header": {
             "fill": {
              "color": "#2a3f5f"
             },
             "line": {
              "color": "rgb(17,17,17)"
             }
            },
            "type": "table"
           }
          ]
         },
         "layout": {
          "annotationdefaults": {
           "arrowcolor": "#f2f5fa",
           "arrowhead": 0,
           "arrowwidth": 1
          },
          "autotypenumbers": "strict",
          "coloraxis": {
           "colorbar": {
            "outlinewidth": 0,
            "ticks": ""
           }
          },
          "colorscale": {
           "diverging": [
            [
             0,
             "#8e0152"
            ],
            [
             0.1,
             "#c51b7d"
            ],
            [
             0.2,
             "#de77ae"
            ],
            [
             0.3,
             "#f1b6da"
            ],
            [
             0.4,
             "#fde0ef"
            ],
            [
             0.5,
             "#f7f7f7"
            ],
            [
             0.6,
             "#e6f5d0"
            ],
            [
             0.7,
             "#b8e186"
            ],
            [
             0.8,
             "#7fbc41"
            ],
            [
             0.9,
             "#4d9221"
            ],
            [
             1,
             "#276419"
            ]
           ],
           "sequential": [
            [
             0,
             "#0d0887"
            ],
            [
             0.1111111111111111,
             "#46039f"
            ],
            [
             0.2222222222222222,
             "#7201a8"
            ],
            [
             0.3333333333333333,
             "#9c179e"
            ],
            [
             0.4444444444444444,
             "#bd3786"
            ],
            [
             0.5555555555555556,
             "#d8576b"
            ],
            [
             0.6666666666666666,
             "#ed7953"
            ],
            [
             0.7777777777777778,
             "#fb9f3a"
            ],
            [
             0.8888888888888888,
             "#fdca26"
            ],
            [
             1,
             "#f0f921"
            ]
           ],
           "sequentialminus": [
            [
             0,
             "#0d0887"
            ],
            [
             0.1111111111111111,
             "#46039f"
            ],
            [
             0.2222222222222222,
             "#7201a8"
            ],
            [
             0.3333333333333333,
             "#9c179e"
            ],
            [
             0.4444444444444444,
             "#bd3786"
            ],
            [
             0.5555555555555556,
             "#d8576b"
            ],
            [
             0.6666666666666666,
             "#ed7953"
            ],
            [
             0.7777777777777778,
             "#fb9f3a"
            ],
            [
             0.8888888888888888,
             "#fdca26"
            ],
            [
             1,
             "#f0f921"
            ]
           ]
          },
          "colorway": [
           "#636efa",
           "#EF553B",
           "#00cc96",
           "#ab63fa",
           "#FFA15A",
           "#19d3f3",
           "#FF6692",
           "#B6E880",
           "#FF97FF",
           "#FECB52"
          ],
          "font": {
           "color": "#f2f5fa"
          },
          "geo": {
           "bgcolor": "rgb(17,17,17)",
           "lakecolor": "rgb(17,17,17)",
           "landcolor": "rgb(17,17,17)",
           "showlakes": true,
           "showland": true,
           "subunitcolor": "#506784"
          },
          "hoverlabel": {
           "align": "left"
          },
          "hovermode": "closest",
          "mapbox": {
           "style": "dark"
          },
          "paper_bgcolor": "rgb(17,17,17)",
          "plot_bgcolor": "rgb(17,17,17)",
          "polar": {
           "angularaxis": {
            "gridcolor": "#506784",
            "linecolor": "#506784",
            "ticks": ""
           },
           "bgcolor": "rgb(17,17,17)",
           "radialaxis": {
            "gridcolor": "#506784",
            "linecolor": "#506784",
            "ticks": ""
           }
          },
          "scene": {
           "xaxis": {
            "backgroundcolor": "rgb(17,17,17)",
            "gridcolor": "#506784",
            "gridwidth": 2,
            "linecolor": "#506784",
            "showbackground": true,
            "ticks": "",
            "zerolinecolor": "#C8D4E3"
           },
           "yaxis": {
            "backgroundcolor": "rgb(17,17,17)",
            "gridcolor": "#506784",
            "gridwidth": 2,
            "linecolor": "#506784",
            "showbackground": true,
            "ticks": "",
            "zerolinecolor": "#C8D4E3"
           },
           "zaxis": {
            "backgroundcolor": "rgb(17,17,17)",
            "gridcolor": "#506784",
            "gridwidth": 2,
            "linecolor": "#506784",
            "showbackground": true,
            "ticks": "",
            "zerolinecolor": "#C8D4E3"
           }
          },
          "shapedefaults": {
           "line": {
            "color": "#f2f5fa"
           }
          },
          "sliderdefaults": {
           "bgcolor": "#C8D4E3",
           "bordercolor": "rgb(17,17,17)",
           "borderwidth": 1,
           "tickwidth": 0
          },
          "ternary": {
           "aaxis": {
            "gridcolor": "#506784",
            "linecolor": "#506784",
            "ticks": ""
           },
           "baxis": {
            "gridcolor": "#506784",
            "linecolor": "#506784",
            "ticks": ""
           },
           "bgcolor": "rgb(17,17,17)",
           "caxis": {
            "gridcolor": "#506784",
            "linecolor": "#506784",
            "ticks": ""
           }
          },
          "title": {
           "x": 0.05
          },
          "updatemenudefaults": {
           "bgcolor": "#506784",
           "borderwidth": 0
          },
          "xaxis": {
           "automargin": true,
           "gridcolor": "#283442",
           "linecolor": "#506784",
           "ticks": "",
           "title": {
            "standoff": 15
           },
           "zerolinecolor": "#283442",
           "zerolinewidth": 2
          },
          "yaxis": {
           "automargin": true,
           "gridcolor": "#283442",
           "linecolor": "#506784",
           "ticks": "",
           "title": {
            "standoff": 15
           },
           "zerolinecolor": "#283442",
           "zerolinewidth": 2
          }
         }
        },
        "title": {
         "text": "Pick up hour=2024-11-09 00:00:00, location_id=4"
        },
        "xaxis": {
         "anchor": "y",
         "domain": [
          0,
          1
         ],
         "title": {
          "text": "x"
         }
        },
        "yaxis": {
         "anchor": "x",
         "domain": [
          0,
          1
         ],
         "title": {
          "text": "y"
         }
        }
       }
      }
     },
     "metadata": {},
     "output_type": "display_data"
    }
   ],
   "source": [
    "plot_one_sample(\n",
    "    features=X_test,\n",
    "    targets=y_test,\n",
    "    example_id=100,\n",
    "    predictions=pd.Series(predictions)\n",
    ")"
   ]
  },
  {
   "cell_type": "code",
   "execution_count": 15,
   "metadata": {},
   "outputs": [
    {
     "data": {
      "application/vnd.plotly.v1+json": {
       "config": {
        "plotlyServerURL": "https://plot.ly"
       },
       "data": [
        {
         "hovertemplate": "x=%{x}<br>y=%{y}<extra></extra>",
         "legendgroup": "",
         "line": {
          "color": "#636efa",
          "dash": "solid"
         },
         "marker": {
          "symbol": "circle"
         },
         "mode": "lines+markers",
         "name": "",
         "orientation": "v",
         "showlegend": false,
         "type": "scatter",
         "x": [
          "2024-11-02T00:00:00",
          "2024-11-02T01:00:00",
          "2024-11-02T02:00:00",
          "2024-11-02T03:00:00",
          "2024-11-02T04:00:00",
          "2024-11-02T05:00:00",
          "2024-11-02T06:00:00",
          "2024-11-02T07:00:00",
          "2024-11-02T08:00:00",
          "2024-11-02T09:00:00",
          "2024-11-02T10:00:00",
          "2024-11-02T11:00:00",
          "2024-11-02T12:00:00",
          "2024-11-02T13:00:00",
          "2024-11-02T14:00:00",
          "2024-11-02T15:00:00",
          "2024-11-02T16:00:00",
          "2024-11-02T17:00:00",
          "2024-11-02T18:00:00",
          "2024-11-02T19:00:00",
          "2024-11-02T20:00:00",
          "2024-11-02T21:00:00",
          "2024-11-02T22:00:00",
          "2024-11-02T23:00:00",
          "2024-11-03T00:00:00",
          "2024-11-03T01:00:00",
          "2024-11-03T02:00:00",
          "2024-11-03T03:00:00",
          "2024-11-03T04:00:00",
          "2024-11-03T05:00:00",
          "2024-11-03T06:00:00",
          "2024-11-03T07:00:00",
          "2024-11-03T08:00:00",
          "2024-11-03T09:00:00",
          "2024-11-03T10:00:00",
          "2024-11-03T11:00:00",
          "2024-11-03T12:00:00",
          "2024-11-03T13:00:00",
          "2024-11-03T14:00:00",
          "2024-11-03T15:00:00",
          "2024-11-03T16:00:00",
          "2024-11-03T17:00:00",
          "2024-11-03T18:00:00",
          "2024-11-03T19:00:00",
          "2024-11-03T20:00:00",
          "2024-11-03T21:00:00",
          "2024-11-03T22:00:00",
          "2024-11-03T23:00:00",
          "2024-11-04T00:00:00",
          "2024-11-04T01:00:00",
          "2024-11-04T02:00:00",
          "2024-11-04T03:00:00",
          "2024-11-04T04:00:00",
          "2024-11-04T05:00:00",
          "2024-11-04T06:00:00",
          "2024-11-04T07:00:00",
          "2024-11-04T08:00:00",
          "2024-11-04T09:00:00",
          "2024-11-04T10:00:00",
          "2024-11-04T11:00:00",
          "2024-11-04T12:00:00",
          "2024-11-04T13:00:00",
          "2024-11-04T14:00:00",
          "2024-11-04T15:00:00",
          "2024-11-04T16:00:00",
          "2024-11-04T17:00:00",
          "2024-11-04T18:00:00",
          "2024-11-04T19:00:00",
          "2024-11-04T20:00:00",
          "2024-11-04T21:00:00",
          "2024-11-04T22:00:00",
          "2024-11-04T23:00:00",
          "2024-11-05T00:00:00",
          "2024-11-05T01:00:00",
          "2024-11-05T02:00:00",
          "2024-11-05T03:00:00",
          "2024-11-05T04:00:00",
          "2024-11-05T05:00:00",
          "2024-11-05T06:00:00",
          "2024-11-05T07:00:00",
          "2024-11-05T08:00:00",
          "2024-11-05T09:00:00",
          "2024-11-05T10:00:00",
          "2024-11-05T11:00:00",
          "2024-11-05T12:00:00",
          "2024-11-05T13:00:00",
          "2024-11-05T14:00:00",
          "2024-11-05T15:00:00",
          "2024-11-05T16:00:00",
          "2024-11-05T17:00:00",
          "2024-11-05T18:00:00",
          "2024-11-05T19:00:00",
          "2024-11-05T20:00:00",
          "2024-11-05T21:00:00",
          "2024-11-05T22:00:00",
          "2024-11-05T23:00:00",
          "2024-11-06T00:00:00",
          "2024-11-06T01:00:00",
          "2024-11-06T02:00:00",
          "2024-11-06T03:00:00",
          "2024-11-06T04:00:00",
          "2024-11-06T05:00:00",
          "2024-11-06T06:00:00",
          "2024-11-06T07:00:00",
          "2024-11-06T08:00:00",
          "2024-11-06T09:00:00",
          "2024-11-06T10:00:00",
          "2024-11-06T11:00:00",
          "2024-11-06T12:00:00",
          "2024-11-06T13:00:00",
          "2024-11-06T14:00:00",
          "2024-11-06T15:00:00",
          "2024-11-06T16:00:00",
          "2024-11-06T17:00:00",
          "2024-11-06T18:00:00",
          "2024-11-06T19:00:00",
          "2024-11-06T20:00:00",
          "2024-11-06T21:00:00",
          "2024-11-06T22:00:00",
          "2024-11-06T23:00:00",
          "2024-11-07T00:00:00",
          "2024-11-07T01:00:00",
          "2024-11-07T02:00:00",
          "2024-11-07T03:00:00",
          "2024-11-07T04:00:00",
          "2024-11-07T05:00:00",
          "2024-11-07T06:00:00",
          "2024-11-07T07:00:00",
          "2024-11-07T08:00:00",
          "2024-11-07T09:00:00",
          "2024-11-07T10:00:00",
          "2024-11-07T11:00:00",
          "2024-11-07T12:00:00",
          "2024-11-07T13:00:00",
          "2024-11-07T14:00:00",
          "2024-11-07T15:00:00",
          "2024-11-07T16:00:00",
          "2024-11-07T17:00:00",
          "2024-11-07T18:00:00",
          "2024-11-07T19:00:00",
          "2024-11-07T20:00:00",
          "2024-11-07T21:00:00",
          "2024-11-07T22:00:00",
          "2024-11-07T23:00:00",
          "2024-11-08T00:00:00",
          "2024-11-08T01:00:00",
          "2024-11-08T02:00:00",
          "2024-11-08T03:00:00",
          "2024-11-08T04:00:00",
          "2024-11-08T05:00:00",
          "2024-11-08T06:00:00",
          "2024-11-08T07:00:00",
          "2024-11-08T08:00:00",
          "2024-11-08T09:00:00",
          "2024-11-08T10:00:00",
          "2024-11-08T11:00:00",
          "2024-11-08T12:00:00",
          "2024-11-08T13:00:00",
          "2024-11-08T14:00:00",
          "2024-11-08T15:00:00",
          "2024-11-08T16:00:00",
          "2024-11-08T17:00:00",
          "2024-11-08T18:00:00",
          "2024-11-08T19:00:00",
          "2024-11-08T20:00:00",
          "2024-11-08T21:00:00",
          "2024-11-08T22:00:00",
          "2024-11-08T23:00:00",
          "2024-11-09T00:00:00",
          "2024-11-09T01:00:00",
          "2024-11-09T02:00:00",
          "2024-11-09T03:00:00",
          "2024-11-09T04:00:00",
          "2024-11-09T05:00:00",
          "2024-11-09T06:00:00",
          "2024-11-09T07:00:00",
          "2024-11-09T08:00:00",
          "2024-11-09T09:00:00",
          "2024-11-09T10:00:00",
          "2024-11-09T11:00:00",
          "2024-11-09T12:00:00",
          "2024-11-09T13:00:00",
          "2024-11-09T14:00:00",
          "2024-11-09T15:00:00",
          "2024-11-09T16:00:00",
          "2024-11-09T17:00:00",
          "2024-11-09T18:00:00",
          "2024-11-09T19:00:00",
          "2024-11-09T20:00:00",
          "2024-11-09T21:00:00",
          "2024-11-09T22:00:00",
          "2024-11-09T23:00:00",
          "2024-11-10T00:00:00",
          "2024-11-10T01:00:00",
          "2024-11-10T02:00:00",
          "2024-11-10T03:00:00",
          "2024-11-10T04:00:00",
          "2024-11-10T05:00:00",
          "2024-11-10T06:00:00",
          "2024-11-10T07:00:00",
          "2024-11-10T08:00:00",
          "2024-11-10T09:00:00",
          "2024-11-10T10:00:00",
          "2024-11-10T11:00:00",
          "2024-11-10T12:00:00",
          "2024-11-10T13:00:00",
          "2024-11-10T14:00:00",
          "2024-11-10T15:00:00",
          "2024-11-10T16:00:00",
          "2024-11-10T17:00:00",
          "2024-11-10T18:00:00",
          "2024-11-10T19:00:00",
          "2024-11-10T20:00:00",
          "2024-11-10T21:00:00",
          "2024-11-10T22:00:00",
          "2024-11-10T23:00:00",
          "2024-11-11T00:00:00",
          "2024-11-11T01:00:00",
          "2024-11-11T02:00:00",
          "2024-11-11T03:00:00",
          "2024-11-11T04:00:00",
          "2024-11-11T05:00:00",
          "2024-11-11T06:00:00",
          "2024-11-11T07:00:00",
          "2024-11-11T08:00:00",
          "2024-11-11T09:00:00",
          "2024-11-11T10:00:00",
          "2024-11-11T11:00:00",
          "2024-11-11T12:00:00",
          "2024-11-11T13:00:00",
          "2024-11-11T14:00:00",
          "2024-11-11T15:00:00",
          "2024-11-11T16:00:00",
          "2024-11-11T17:00:00",
          "2024-11-11T18:00:00",
          "2024-11-11T19:00:00",
          "2024-11-11T20:00:00",
          "2024-11-11T21:00:00",
          "2024-11-11T22:00:00",
          "2024-11-11T23:00:00",
          "2024-11-12T00:00:00",
          "2024-11-12T01:00:00",
          "2024-11-12T02:00:00",
          "2024-11-12T03:00:00",
          "2024-11-12T04:00:00",
          "2024-11-12T05:00:00",
          "2024-11-12T06:00:00",
          "2024-11-12T07:00:00",
          "2024-11-12T08:00:00",
          "2024-11-12T09:00:00",
          "2024-11-12T10:00:00",
          "2024-11-12T11:00:00",
          "2024-11-12T12:00:00",
          "2024-11-12T13:00:00",
          "2024-11-12T14:00:00",
          "2024-11-12T15:00:00",
          "2024-11-12T16:00:00",
          "2024-11-12T17:00:00",
          "2024-11-12T18:00:00",
          "2024-11-12T19:00:00",
          "2024-11-12T20:00:00",
          "2024-11-12T21:00:00",
          "2024-11-12T22:00:00",
          "2024-11-12T23:00:00",
          "2024-11-13T00:00:00",
          "2024-11-13T01:00:00",
          "2024-11-13T02:00:00",
          "2024-11-13T03:00:00",
          "2024-11-13T04:00:00",
          "2024-11-13T05:00:00",
          "2024-11-13T06:00:00",
          "2024-11-13T07:00:00",
          "2024-11-13T08:00:00",
          "2024-11-13T09:00:00",
          "2024-11-13T10:00:00",
          "2024-11-13T11:00:00",
          "2024-11-13T12:00:00",
          "2024-11-13T13:00:00",
          "2024-11-13T14:00:00",
          "2024-11-13T15:00:00",
          "2024-11-13T16:00:00",
          "2024-11-13T17:00:00",
          "2024-11-13T18:00:00",
          "2024-11-13T19:00:00",
          "2024-11-13T20:00:00",
          "2024-11-13T21:00:00",
          "2024-11-13T22:00:00",
          "2024-11-13T23:00:00",
          "2024-11-14T00:00:00",
          "2024-11-14T01:00:00",
          "2024-11-14T02:00:00",
          "2024-11-14T03:00:00",
          "2024-11-14T04:00:00",
          "2024-11-14T05:00:00",
          "2024-11-14T06:00:00",
          "2024-11-14T07:00:00",
          "2024-11-14T08:00:00",
          "2024-11-14T09:00:00",
          "2024-11-14T10:00:00",
          "2024-11-14T11:00:00",
          "2024-11-14T12:00:00",
          "2024-11-14T13:00:00",
          "2024-11-14T14:00:00",
          "2024-11-14T15:00:00",
          "2024-11-14T16:00:00",
          "2024-11-14T17:00:00",
          "2024-11-14T18:00:00",
          "2024-11-14T19:00:00",
          "2024-11-14T20:00:00",
          "2024-11-14T21:00:00",
          "2024-11-14T22:00:00",
          "2024-11-14T23:00:00",
          "2024-11-15T00:00:00",
          "2024-11-15T01:00:00",
          "2024-11-15T02:00:00",
          "2024-11-15T03:00:00",
          "2024-11-15T04:00:00",
          "2024-11-15T05:00:00",
          "2024-11-15T06:00:00",
          "2024-11-15T07:00:00",
          "2024-11-15T08:00:00",
          "2024-11-15T09:00:00",
          "2024-11-15T10:00:00",
          "2024-11-15T11:00:00",
          "2024-11-15T12:00:00",
          "2024-11-15T13:00:00",
          "2024-11-15T14:00:00",
          "2024-11-15T15:00:00",
          "2024-11-15T16:00:00",
          "2024-11-15T17:00:00",
          "2024-11-15T18:00:00",
          "2024-11-15T19:00:00",
          "2024-11-15T20:00:00",
          "2024-11-15T21:00:00",
          "2024-11-15T22:00:00",
          "2024-11-15T23:00:00",
          "2024-11-16T00:00:00",
          "2024-11-16T01:00:00",
          "2024-11-16T02:00:00",
          "2024-11-16T03:00:00",
          "2024-11-16T04:00:00",
          "2024-11-16T05:00:00",
          "2024-11-16T06:00:00",
          "2024-11-16T07:00:00",
          "2024-11-16T08:00:00",
          "2024-11-16T09:00:00",
          "2024-11-16T10:00:00",
          "2024-11-16T11:00:00",
          "2024-11-16T12:00:00",
          "2024-11-16T13:00:00",
          "2024-11-16T14:00:00",
          "2024-11-16T15:00:00",
          "2024-11-16T16:00:00",
          "2024-11-16T17:00:00",
          "2024-11-16T18:00:00",
          "2024-11-16T19:00:00",
          "2024-11-16T20:00:00",
          "2024-11-16T21:00:00",
          "2024-11-16T22:00:00",
          "2024-11-16T23:00:00",
          "2024-11-17T00:00:00",
          "2024-11-17T01:00:00",
          "2024-11-17T02:00:00",
          "2024-11-17T03:00:00",
          "2024-11-17T04:00:00",
          "2024-11-17T05:00:00",
          "2024-11-17T06:00:00",
          "2024-11-17T07:00:00",
          "2024-11-17T08:00:00",
          "2024-11-17T09:00:00",
          "2024-11-17T10:00:00",
          "2024-11-17T11:00:00",
          "2024-11-17T12:00:00",
          "2024-11-17T13:00:00",
          "2024-11-17T14:00:00",
          "2024-11-17T15:00:00",
          "2024-11-17T16:00:00",
          "2024-11-17T17:00:00",
          "2024-11-17T18:00:00",
          "2024-11-17T19:00:00",
          "2024-11-17T20:00:00",
          "2024-11-17T21:00:00",
          "2024-11-17T22:00:00",
          "2024-11-17T23:00:00",
          "2024-11-18T00:00:00",
          "2024-11-18T01:00:00",
          "2024-11-18T02:00:00",
          "2024-11-18T03:00:00",
          "2024-11-18T04:00:00",
          "2024-11-18T05:00:00",
          "2024-11-18T06:00:00",
          "2024-11-18T07:00:00",
          "2024-11-18T08:00:00",
          "2024-11-18T09:00:00",
          "2024-11-18T10:00:00",
          "2024-11-18T11:00:00",
          "2024-11-18T12:00:00",
          "2024-11-18T13:00:00",
          "2024-11-18T14:00:00",
          "2024-11-18T15:00:00",
          "2024-11-18T16:00:00",
          "2024-11-18T17:00:00",
          "2024-11-18T18:00:00",
          "2024-11-18T19:00:00",
          "2024-11-18T20:00:00",
          "2024-11-18T21:00:00",
          "2024-11-18T22:00:00",
          "2024-11-18T23:00:00",
          "2024-11-19T00:00:00",
          "2024-11-19T01:00:00",
          "2024-11-19T02:00:00",
          "2024-11-19T03:00:00",
          "2024-11-19T04:00:00",
          "2024-11-19T05:00:00",
          "2024-11-19T06:00:00",
          "2024-11-19T07:00:00",
          "2024-11-19T08:00:00",
          "2024-11-19T09:00:00",
          "2024-11-19T10:00:00",
          "2024-11-19T11:00:00",
          "2024-11-19T12:00:00",
          "2024-11-19T13:00:00",
          "2024-11-19T14:00:00",
          "2024-11-19T15:00:00",
          "2024-11-19T16:00:00",
          "2024-11-19T17:00:00",
          "2024-11-19T18:00:00",
          "2024-11-19T19:00:00",
          "2024-11-19T20:00:00",
          "2024-11-19T21:00:00",
          "2024-11-19T22:00:00",
          "2024-11-19T23:00:00",
          "2024-11-20T00:00:00",
          "2024-11-20T01:00:00",
          "2024-11-20T02:00:00",
          "2024-11-20T03:00:00",
          "2024-11-20T04:00:00",
          "2024-11-20T05:00:00",
          "2024-11-20T06:00:00",
          "2024-11-20T07:00:00",
          "2024-11-20T08:00:00",
          "2024-11-20T09:00:00",
          "2024-11-20T10:00:00",
          "2024-11-20T11:00:00",
          "2024-11-20T12:00:00",
          "2024-11-20T13:00:00",
          "2024-11-20T14:00:00",
          "2024-11-20T15:00:00",
          "2024-11-20T16:00:00",
          "2024-11-20T17:00:00",
          "2024-11-20T18:00:00",
          "2024-11-20T19:00:00",
          "2024-11-20T20:00:00",
          "2024-11-20T21:00:00",
          "2024-11-20T22:00:00",
          "2024-11-20T23:00:00",
          "2024-11-21T00:00:00",
          "2024-11-21T01:00:00",
          "2024-11-21T02:00:00",
          "2024-11-21T03:00:00",
          "2024-11-21T04:00:00",
          "2024-11-21T05:00:00",
          "2024-11-21T06:00:00",
          "2024-11-21T07:00:00",
          "2024-11-21T08:00:00",
          "2024-11-21T09:00:00",
          "2024-11-21T10:00:00",
          "2024-11-21T11:00:00",
          "2024-11-21T12:00:00",
          "2024-11-21T13:00:00",
          "2024-11-21T14:00:00",
          "2024-11-21T15:00:00",
          "2024-11-21T16:00:00",
          "2024-11-21T17:00:00",
          "2024-11-21T18:00:00",
          "2024-11-21T19:00:00",
          "2024-11-21T20:00:00",
          "2024-11-21T21:00:00",
          "2024-11-21T22:00:00",
          "2024-11-21T23:00:00",
          "2024-11-22T00:00:00",
          "2024-11-22T01:00:00",
          "2024-11-22T02:00:00",
          "2024-11-22T03:00:00",
          "2024-11-22T04:00:00",
          "2024-11-22T05:00:00",
          "2024-11-22T06:00:00",
          "2024-11-22T07:00:00",
          "2024-11-22T08:00:00",
          "2024-11-22T09:00:00",
          "2024-11-22T10:00:00",
          "2024-11-22T11:00:00",
          "2024-11-22T12:00:00",
          "2024-11-22T13:00:00",
          "2024-11-22T14:00:00",
          "2024-11-22T15:00:00",
          "2024-11-22T16:00:00",
          "2024-11-22T17:00:00",
          "2024-11-22T18:00:00",
          "2024-11-22T19:00:00",
          "2024-11-22T20:00:00",
          "2024-11-22T21:00:00",
          "2024-11-22T22:00:00",
          "2024-11-22T23:00:00",
          "2024-11-23T00:00:00",
          "2024-11-23T01:00:00",
          "2024-11-23T02:00:00",
          "2024-11-23T03:00:00",
          "2024-11-23T04:00:00",
          "2024-11-23T05:00:00",
          "2024-11-23T06:00:00",
          "2024-11-23T07:00:00",
          "2024-11-23T08:00:00",
          "2024-11-23T09:00:00",
          "2024-11-23T10:00:00",
          "2024-11-23T11:00:00",
          "2024-11-23T12:00:00",
          "2024-11-23T13:00:00",
          "2024-11-23T14:00:00",
          "2024-11-23T15:00:00",
          "2024-11-23T16:00:00",
          "2024-11-23T17:00:00",
          "2024-11-23T18:00:00",
          "2024-11-23T19:00:00",
          "2024-11-23T20:00:00",
          "2024-11-23T21:00:00",
          "2024-11-23T22:00:00",
          "2024-11-23T23:00:00",
          "2024-11-24T00:00:00",
          "2024-11-24T01:00:00",
          "2024-11-24T02:00:00",
          "2024-11-24T03:00:00",
          "2024-11-24T04:00:00",
          "2024-11-24T05:00:00",
          "2024-11-24T06:00:00",
          "2024-11-24T07:00:00",
          "2024-11-24T08:00:00",
          "2024-11-24T09:00:00",
          "2024-11-24T10:00:00",
          "2024-11-24T11:00:00",
          "2024-11-24T12:00:00",
          "2024-11-24T13:00:00",
          "2024-11-24T14:00:00",
          "2024-11-24T15:00:00",
          "2024-11-24T16:00:00",
          "2024-11-24T17:00:00",
          "2024-11-24T18:00:00",
          "2024-11-24T19:00:00",
          "2024-11-24T20:00:00",
          "2024-11-24T21:00:00",
          "2024-11-24T22:00:00",
          "2024-11-24T23:00:00",
          "2024-11-25T00:00:00",
          "2024-11-25T01:00:00",
          "2024-11-25T02:00:00",
          "2024-11-25T03:00:00",
          "2024-11-25T04:00:00",
          "2024-11-25T05:00:00",
          "2024-11-25T06:00:00",
          "2024-11-25T07:00:00",
          "2024-11-25T08:00:00",
          "2024-11-25T09:00:00",
          "2024-11-25T10:00:00",
          "2024-11-25T11:00:00",
          "2024-11-25T12:00:00",
          "2024-11-25T13:00:00",
          "2024-11-25T14:00:00",
          "2024-11-25T15:00:00",
          "2024-11-25T16:00:00",
          "2024-11-25T17:00:00",
          "2024-11-25T18:00:00",
          "2024-11-25T19:00:00",
          "2024-11-25T20:00:00",
          "2024-11-25T21:00:00",
          "2024-11-25T22:00:00",
          "2024-11-25T23:00:00",
          "2024-11-26T00:00:00",
          "2024-11-26T01:00:00",
          "2024-11-26T02:00:00",
          "2024-11-26T03:00:00",
          "2024-11-26T04:00:00",
          "2024-11-26T05:00:00",
          "2024-11-26T06:00:00",
          "2024-11-26T07:00:00",
          "2024-11-26T08:00:00",
          "2024-11-26T09:00:00",
          "2024-11-26T10:00:00",
          "2024-11-26T11:00:00",
          "2024-11-26T12:00:00",
          "2024-11-26T13:00:00",
          "2024-11-26T14:00:00",
          "2024-11-26T15:00:00",
          "2024-11-26T16:00:00",
          "2024-11-26T17:00:00",
          "2024-11-26T18:00:00",
          "2024-11-26T19:00:00",
          "2024-11-26T20:00:00",
          "2024-11-26T21:00:00",
          "2024-11-26T22:00:00",
          "2024-11-26T23:00:00",
          "2024-11-27T00:00:00",
          "2024-11-27T01:00:00",
          "2024-11-27T02:00:00",
          "2024-11-27T03:00:00",
          "2024-11-27T04:00:00",
          "2024-11-27T05:00:00",
          "2024-11-27T06:00:00",
          "2024-11-27T07:00:00",
          "2024-11-27T08:00:00",
          "2024-11-27T09:00:00",
          "2024-11-27T10:00:00",
          "2024-11-27T11:00:00",
          "2024-11-27T12:00:00",
          "2024-11-27T13:00:00",
          "2024-11-27T14:00:00",
          "2024-11-27T15:00:00",
          "2024-11-27T16:00:00",
          "2024-11-27T17:00:00",
          "2024-11-27T18:00:00",
          "2024-11-27T19:00:00",
          "2024-11-27T20:00:00",
          "2024-11-27T21:00:00",
          "2024-11-27T22:00:00",
          "2024-11-27T23:00:00",
          "2024-11-28T00:00:00",
          "2024-11-28T01:00:00",
          "2024-11-28T02:00:00",
          "2024-11-28T03:00:00",
          "2024-11-28T04:00:00",
          "2024-11-28T05:00:00",
          "2024-11-28T06:00:00",
          "2024-11-28T07:00:00",
          "2024-11-28T08:00:00",
          "2024-11-28T09:00:00",
          "2024-11-28T10:00:00",
          "2024-11-28T11:00:00",
          "2024-11-28T12:00:00",
          "2024-11-28T13:00:00",
          "2024-11-28T14:00:00",
          "2024-11-28T15:00:00",
          "2024-11-28T16:00:00",
          "2024-11-28T17:00:00",
          "2024-11-28T18:00:00",
          "2024-11-28T19:00:00",
          "2024-11-28T20:00:00",
          "2024-11-28T21:00:00",
          "2024-11-28T22:00:00",
          "2024-11-28T23:00:00",
          "2024-11-29T00:00:00",
          "2024-11-29T01:00:00",
          "2024-11-29T02:00:00",
          "2024-11-29T03:00:00",
          "2024-11-29T04:00:00",
          "2024-11-29T05:00:00",
          "2024-11-29T06:00:00",
          "2024-11-29T07:00:00",
          "2024-11-29T08:00:00",
          "2024-11-29T09:00:00",
          "2024-11-29T10:00:00",
          "2024-11-29T11:00:00",
          "2024-11-29T12:00:00",
          "2024-11-29T13:00:00",
          "2024-11-29T14:00:00",
          "2024-11-29T15:00:00",
          "2024-11-29T16:00:00",
          "2024-11-29T17:00:00",
          "2024-11-29T18:00:00",
          "2024-11-29T19:00:00",
          "2024-11-29T20:00:00",
          "2024-11-29T21:00:00",
          "2024-11-29T22:00:00",
          "2024-11-29T23:00:00",
          "2024-11-30T00:00:00"
         ],
         "xaxis": "x",
         "y": [
          0,
          0,
          0,
          0,
          0,
          0,
          0,
          0,
          0,
          0,
          0,
          0,
          0,
          0,
          0,
          0,
          0,
          0,
          0,
          0,
          0,
          0,
          0,
          0,
          0,
          0,
          0,
          0,
          0,
          0,
          0,
          0,
          0,
          0,
          0,
          0,
          0,
          0,
          0,
          0,
          0,
          0,
          0,
          0,
          0,
          0,
          0,
          0,
          0,
          0,
          0,
          0,
          0,
          0,
          0,
          0,
          0,
          0,
          0,
          0,
          0,
          0,
          0,
          0,
          0,
          0,
          0,
          0,
          0,
          0,
          0,
          0,
          0,
          0,
          0,
          0,
          0,
          0,
          0,
          0,
          0,
          0,
          0,
          0,
          0,
          0,
          0,
          0,
          0,
          0,
          0,
          0,
          0,
          0,
          0,
          0,
          0,
          0,
          0,
          0,
          0,
          0,
          0,
          0,
          0,
          0,
          0,
          0,
          0,
          0,
          0,
          0,
          0,
          0,
          0,
          0,
          0,
          0,
          0,
          0,
          0,
          0,
          0,
          0,
          0,
          0,
          0,
          0,
          0,
          0,
          0,
          0,
          0,
          0,
          0,
          0,
          0,
          0,
          0,
          0,
          0,
          0,
          0,
          0,
          0,
          0,
          0,
          0,
          0,
          0,
          0,
          0,
          0,
          0,
          0,
          0,
          0,
          0,
          0,
          0,
          0,
          0,
          0,
          0,
          0,
          0,
          0,
          0,
          0,
          1,
          0,
          0,
          0,
          0,
          0,
          0,
          0,
          0,
          0,
          0,
          0,
          0,
          0,
          0,
          0,
          0,
          0,
          0,
          0,
          0,
          0,
          0,
          0,
          0,
          0,
          0,
          0,
          0,
          0,
          0,
          0,
          0,
          0,
          0,
          0,
          0,
          0,
          0,
          0,
          0,
          0,
          0,
          0,
          0,
          0,
          0,
          0,
          0,
          0,
          0,
          0,
          0,
          0,
          0,
          0,
          0,
          0,
          0,
          0,
          0,
          0,
          0,
          0,
          0,
          0,
          0,
          0,
          0,
          0,
          0,
          0,
          0,
          0,
          0,
          0,
          0,
          0,
          0,
          0,
          0,
          0,
          0,
          0,
          0,
          0,
          0,
          0,
          0,
          0,
          0,
          0,
          0,
          0,
          0,
          0,
          0,
          0,
          0,
          0,
          0,
          0,
          0,
          0,
          0,
          0,
          0,
          0,
          0,
          0,
          0,
          0,
          0,
          0,
          0,
          0,
          0,
          0,
          0,
          0,
          0,
          0,
          0,
          0,
          0,
          0,
          0,
          0,
          0,
          0,
          0,
          0,
          0,
          0,
          0,
          0,
          0,
          0,
          0,
          0,
          0,
          0,
          0,
          0,
          0,
          0,
          0,
          0,
          0,
          0,
          0,
          0,
          0,
          0,
          0,
          0,
          0,
          0,
          0,
          0,
          0,
          0,
          0,
          0,
          0,
          0,
          0,
          0,
          0,
          0,
          0,
          0,
          0,
          0,
          0,
          0,
          0,
          0,
          0,
          0,
          0,
          0,
          0,
          0,
          0,
          0,
          0,
          0,
          0,
          0,
          0,
          0,
          0,
          0,
          0,
          0,
          0,
          0,
          0,
          0,
          0,
          0,
          0,
          0,
          0,
          0,
          0,
          0,
          0,
          0,
          0,
          0,
          0,
          0,
          0,
          0,
          0,
          0,
          0,
          0,
          0,
          0,
          0,
          0,
          0,
          0,
          0,
          0,
          0,
          0,
          0,
          0,
          0,
          0,
          0,
          0,
          0,
          0,
          0,
          0,
          0,
          0,
          0,
          0,
          0,
          0,
          0,
          0,
          0,
          0,
          0,
          0,
          0,
          0,
          0,
          0,
          0,
          0,
          0,
          0,
          0,
          0,
          0,
          0,
          0,
          0,
          0,
          0,
          0,
          0,
          0,
          0,
          0,
          0,
          0,
          0,
          0,
          0,
          0,
          0,
          0,
          0,
          0,
          0,
          0,
          0,
          0,
          0,
          0,
          0,
          0,
          0,
          0,
          0,
          0,
          0,
          0,
          0,
          0,
          0,
          0,
          0,
          0,
          0,
          0,
          0,
          0,
          0,
          0,
          0,
          0,
          0,
          0,
          0,
          0,
          0,
          0,
          0,
          0,
          0,
          0,
          0,
          0,
          0,
          0,
          0,
          0,
          0,
          0,
          0,
          0,
          0,
          0,
          0,
          0,
          0,
          0,
          0,
          0,
          0,
          0,
          0,
          0,
          0,
          0,
          0,
          0,
          0,
          0,
          0,
          0,
          0,
          0,
          0,
          0,
          0,
          0,
          0,
          0,
          0,
          0,
          0,
          0,
          0,
          0,
          0,
          0,
          0,
          0,
          0,
          0,
          0,
          0,
          0,
          0,
          0,
          0,
          0,
          0,
          0,
          0,
          0,
          0,
          0,
          0,
          0,
          0,
          0,
          0,
          0,
          0,
          0,
          0,
          0,
          0,
          0,
          0,
          0,
          0,
          0,
          0,
          0,
          0,
          0,
          0,
          0,
          0,
          0,
          0,
          0,
          0,
          0,
          0,
          0,
          0,
          0,
          0,
          0,
          0,
          0,
          0,
          0,
          0,
          0,
          0,
          0,
          0,
          0,
          0,
          0,
          0,
          0,
          0,
          0,
          0,
          0,
          0,
          0,
          0,
          0,
          0,
          0,
          0,
          0,
          0,
          0,
          0,
          0,
          0,
          0,
          0,
          0,
          0,
          0,
          0,
          0,
          0,
          0,
          0,
          0,
          0,
          0,
          0,
          0,
          0,
          0,
          0,
          0,
          0,
          0,
          0,
          0,
          0,
          0,
          0,
          0,
          0,
          0,
          0,
          0,
          0,
          0,
          0,
          0,
          0,
          0,
          0,
          0,
          0,
          0,
          0,
          0,
          0,
          0,
          0,
          0,
          0,
          0,
          0,
          0,
          0,
          0,
          0,
          0
         ],
         "yaxis": "y"
        },
        {
         "line": {
          "color": "green"
         },
         "marker": {
          "size": 10
         },
         "mode": "markers",
         "name": "actual value",
         "type": "scatter",
         "x": [
          "2024-11-30T00:00:00"
         ],
         "y": [
          0
         ]
        },
        {
         "line": {
          "color": "red"
         },
         "marker": {
          "size": 15,
          "symbol": "x"
         },
         "mode": "markers",
         "name": "prediction",
         "type": "scatter",
         "x": [
          "2024-11-30T00:00:00"
         ],
         "y": [
          0.029085701377294878
         ]
        }
       ],
       "layout": {
        "legend": {
         "tracegroupgap": 0
        },
        "template": {
         "data": {
          "bar": [
           {
            "error_x": {
             "color": "#f2f5fa"
            },
            "error_y": {
             "color": "#f2f5fa"
            },
            "marker": {
             "line": {
              "color": "rgb(17,17,17)",
              "width": 0.5
             },
             "pattern": {
              "fillmode": "overlay",
              "size": 10,
              "solidity": 0.2
             }
            },
            "type": "bar"
           }
          ],
          "barpolar": [
           {
            "marker": {
             "line": {
              "color": "rgb(17,17,17)",
              "width": 0.5
             },
             "pattern": {
              "fillmode": "overlay",
              "size": 10,
              "solidity": 0.2
             }
            },
            "type": "barpolar"
           }
          ],
          "carpet": [
           {
            "aaxis": {
             "endlinecolor": "#A2B1C6",
             "gridcolor": "#506784",
             "linecolor": "#506784",
             "minorgridcolor": "#506784",
             "startlinecolor": "#A2B1C6"
            },
            "baxis": {
             "endlinecolor": "#A2B1C6",
             "gridcolor": "#506784",
             "linecolor": "#506784",
             "minorgridcolor": "#506784",
             "startlinecolor": "#A2B1C6"
            },
            "type": "carpet"
           }
          ],
          "choropleth": [
           {
            "colorbar": {
             "outlinewidth": 0,
             "ticks": ""
            },
            "type": "choropleth"
           }
          ],
          "contour": [
           {
            "colorbar": {
             "outlinewidth": 0,
             "ticks": ""
            },
            "colorscale": [
             [
              0,
              "#0d0887"
             ],
             [
              0.1111111111111111,
              "#46039f"
             ],
             [
              0.2222222222222222,
              "#7201a8"
             ],
             [
              0.3333333333333333,
              "#9c179e"
             ],
             [
              0.4444444444444444,
              "#bd3786"
             ],
             [
              0.5555555555555556,
              "#d8576b"
             ],
             [
              0.6666666666666666,
              "#ed7953"
             ],
             [
              0.7777777777777778,
              "#fb9f3a"
             ],
             [
              0.8888888888888888,
              "#fdca26"
             ],
             [
              1,
              "#f0f921"
             ]
            ],
            "type": "contour"
           }
          ],
          "contourcarpet": [
           {
            "colorbar": {
             "outlinewidth": 0,
             "ticks": ""
            },
            "type": "contourcarpet"
           }
          ],
          "heatmap": [
           {
            "colorbar": {
             "outlinewidth": 0,
             "ticks": ""
            },
            "colorscale": [
             [
              0,
              "#0d0887"
             ],
             [
              0.1111111111111111,
              "#46039f"
             ],
             [
              0.2222222222222222,
              "#7201a8"
             ],
             [
              0.3333333333333333,
              "#9c179e"
             ],
             [
              0.4444444444444444,
              "#bd3786"
             ],
             [
              0.5555555555555556,
              "#d8576b"
             ],
             [
              0.6666666666666666,
              "#ed7953"
             ],
             [
              0.7777777777777778,
              "#fb9f3a"
             ],
             [
              0.8888888888888888,
              "#fdca26"
             ],
             [
              1,
              "#f0f921"
             ]
            ],
            "type": "heatmap"
           }
          ],
          "heatmapgl": [
           {
            "colorbar": {
             "outlinewidth": 0,
             "ticks": ""
            },
            "colorscale": [
             [
              0,
              "#0d0887"
             ],
             [
              0.1111111111111111,
              "#46039f"
             ],
             [
              0.2222222222222222,
              "#7201a8"
             ],
             [
              0.3333333333333333,
              "#9c179e"
             ],
             [
              0.4444444444444444,
              "#bd3786"
             ],
             [
              0.5555555555555556,
              "#d8576b"
             ],
             [
              0.6666666666666666,
              "#ed7953"
             ],
             [
              0.7777777777777778,
              "#fb9f3a"
             ],
             [
              0.8888888888888888,
              "#fdca26"
             ],
             [
              1,
              "#f0f921"
             ]
            ],
            "type": "heatmapgl"
           }
          ],
          "histogram": [
           {
            "marker": {
             "pattern": {
              "fillmode": "overlay",
              "size": 10,
              "solidity": 0.2
             }
            },
            "type": "histogram"
           }
          ],
          "histogram2d": [
           {
            "colorbar": {
             "outlinewidth": 0,
             "ticks": ""
            },
            "colorscale": [
             [
              0,
              "#0d0887"
             ],
             [
              0.1111111111111111,
              "#46039f"
             ],
             [
              0.2222222222222222,
              "#7201a8"
             ],
             [
              0.3333333333333333,
              "#9c179e"
             ],
             [
              0.4444444444444444,
              "#bd3786"
             ],
             [
              0.5555555555555556,
              "#d8576b"
             ],
             [
              0.6666666666666666,
              "#ed7953"
             ],
             [
              0.7777777777777778,
              "#fb9f3a"
             ],
             [
              0.8888888888888888,
              "#fdca26"
             ],
             [
              1,
              "#f0f921"
             ]
            ],
            "type": "histogram2d"
           }
          ],
          "histogram2dcontour": [
           {
            "colorbar": {
             "outlinewidth": 0,
             "ticks": ""
            },
            "colorscale": [
             [
              0,
              "#0d0887"
             ],
             [
              0.1111111111111111,
              "#46039f"
             ],
             [
              0.2222222222222222,
              "#7201a8"
             ],
             [
              0.3333333333333333,
              "#9c179e"
             ],
             [
              0.4444444444444444,
              "#bd3786"
             ],
             [
              0.5555555555555556,
              "#d8576b"
             ],
             [
              0.6666666666666666,
              "#ed7953"
             ],
             [
              0.7777777777777778,
              "#fb9f3a"
             ],
             [
              0.8888888888888888,
              "#fdca26"
             ],
             [
              1,
              "#f0f921"
             ]
            ],
            "type": "histogram2dcontour"
           }
          ],
          "mesh3d": [
           {
            "colorbar": {
             "outlinewidth": 0,
             "ticks": ""
            },
            "type": "mesh3d"
           }
          ],
          "parcoords": [
           {
            "line": {
             "colorbar": {
              "outlinewidth": 0,
              "ticks": ""
             }
            },
            "type": "parcoords"
           }
          ],
          "pie": [
           {
            "automargin": true,
            "type": "pie"
           }
          ],
          "scatter": [
           {
            "marker": {
             "line": {
              "color": "#283442"
             }
            },
            "type": "scatter"
           }
          ],
          "scatter3d": [
           {
            "line": {
             "colorbar": {
              "outlinewidth": 0,
              "ticks": ""
             }
            },
            "marker": {
             "colorbar": {
              "outlinewidth": 0,
              "ticks": ""
             }
            },
            "type": "scatter3d"
           }
          ],
          "scattercarpet": [
           {
            "marker": {
             "colorbar": {
              "outlinewidth": 0,
              "ticks": ""
             }
            },
            "type": "scattercarpet"
           }
          ],
          "scattergeo": [
           {
            "marker": {
             "colorbar": {
              "outlinewidth": 0,
              "ticks": ""
             }
            },
            "type": "scattergeo"
           }
          ],
          "scattergl": [
           {
            "marker": {
             "line": {
              "color": "#283442"
             }
            },
            "type": "scattergl"
           }
          ],
          "scattermapbox": [
           {
            "marker": {
             "colorbar": {
              "outlinewidth": 0,
              "ticks": ""
             }
            },
            "type": "scattermapbox"
           }
          ],
          "scatterpolar": [
           {
            "marker": {
             "colorbar": {
              "outlinewidth": 0,
              "ticks": ""
             }
            },
            "type": "scatterpolar"
           }
          ],
          "scatterpolargl": [
           {
            "marker": {
             "colorbar": {
              "outlinewidth": 0,
              "ticks": ""
             }
            },
            "type": "scatterpolargl"
           }
          ],
          "scatterternary": [
           {
            "marker": {
             "colorbar": {
              "outlinewidth": 0,
              "ticks": ""
             }
            },
            "type": "scatterternary"
           }
          ],
          "surface": [
           {
            "colorbar": {
             "outlinewidth": 0,
             "ticks": ""
            },
            "colorscale": [
             [
              0,
              "#0d0887"
             ],
             [
              0.1111111111111111,
              "#46039f"
             ],
             [
              0.2222222222222222,
              "#7201a8"
             ],
             [
              0.3333333333333333,
              "#9c179e"
             ],
             [
              0.4444444444444444,
              "#bd3786"
             ],
             [
              0.5555555555555556,
              "#d8576b"
             ],
             [
              0.6666666666666666,
              "#ed7953"
             ],
             [
              0.7777777777777778,
              "#fb9f3a"
             ],
             [
              0.8888888888888888,
              "#fdca26"
             ],
             [
              1,
              "#f0f921"
             ]
            ],
            "type": "surface"
           }
          ],
          "table": [
           {
            "cells": {
             "fill": {
              "color": "#506784"
             },
             "line": {
              "color": "rgb(17,17,17)"
             }
            },
            "header": {
             "fill": {
              "color": "#2a3f5f"
             },
             "line": {
              "color": "rgb(17,17,17)"
             }
            },
            "type": "table"
           }
          ]
         },
         "layout": {
          "annotationdefaults": {
           "arrowcolor": "#f2f5fa",
           "arrowhead": 0,
           "arrowwidth": 1
          },
          "autotypenumbers": "strict",
          "coloraxis": {
           "colorbar": {
            "outlinewidth": 0,
            "ticks": ""
           }
          },
          "colorscale": {
           "diverging": [
            [
             0,
             "#8e0152"
            ],
            [
             0.1,
             "#c51b7d"
            ],
            [
             0.2,
             "#de77ae"
            ],
            [
             0.3,
             "#f1b6da"
            ],
            [
             0.4,
             "#fde0ef"
            ],
            [
             0.5,
             "#f7f7f7"
            ],
            [
             0.6,
             "#e6f5d0"
            ],
            [
             0.7,
             "#b8e186"
            ],
            [
             0.8,
             "#7fbc41"
            ],
            [
             0.9,
             "#4d9221"
            ],
            [
             1,
             "#276419"
            ]
           ],
           "sequential": [
            [
             0,
             "#0d0887"
            ],
            [
             0.1111111111111111,
             "#46039f"
            ],
            [
             0.2222222222222222,
             "#7201a8"
            ],
            [
             0.3333333333333333,
             "#9c179e"
            ],
            [
             0.4444444444444444,
             "#bd3786"
            ],
            [
             0.5555555555555556,
             "#d8576b"
            ],
            [
             0.6666666666666666,
             "#ed7953"
            ],
            [
             0.7777777777777778,
             "#fb9f3a"
            ],
            [
             0.8888888888888888,
             "#fdca26"
            ],
            [
             1,
             "#f0f921"
            ]
           ],
           "sequentialminus": [
            [
             0,
             "#0d0887"
            ],
            [
             0.1111111111111111,
             "#46039f"
            ],
            [
             0.2222222222222222,
             "#7201a8"
            ],
            [
             0.3333333333333333,
             "#9c179e"
            ],
            [
             0.4444444444444444,
             "#bd3786"
            ],
            [
             0.5555555555555556,
             "#d8576b"
            ],
            [
             0.6666666666666666,
             "#ed7953"
            ],
            [
             0.7777777777777778,
             "#fb9f3a"
            ],
            [
             0.8888888888888888,
             "#fdca26"
            ],
            [
             1,
             "#f0f921"
            ]
           ]
          },
          "colorway": [
           "#636efa",
           "#EF553B",
           "#00cc96",
           "#ab63fa",
           "#FFA15A",
           "#19d3f3",
           "#FF6692",
           "#B6E880",
           "#FF97FF",
           "#FECB52"
          ],
          "font": {
           "color": "#f2f5fa"
          },
          "geo": {
           "bgcolor": "rgb(17,17,17)",
           "lakecolor": "rgb(17,17,17)",
           "landcolor": "rgb(17,17,17)",
           "showlakes": true,
           "showland": true,
           "subunitcolor": "#506784"
          },
          "hoverlabel": {
           "align": "left"
          },
          "hovermode": "closest",
          "mapbox": {
           "style": "dark"
          },
          "paper_bgcolor": "rgb(17,17,17)",
          "plot_bgcolor": "rgb(17,17,17)",
          "polar": {
           "angularaxis": {
            "gridcolor": "#506784",
            "linecolor": "#506784",
            "ticks": ""
           },
           "bgcolor": "rgb(17,17,17)",
           "radialaxis": {
            "gridcolor": "#506784",
            "linecolor": "#506784",
            "ticks": ""
           }
          },
          "scene": {
           "xaxis": {
            "backgroundcolor": "rgb(17,17,17)",
            "gridcolor": "#506784",
            "gridwidth": 2,
            "linecolor": "#506784",
            "showbackground": true,
            "ticks": "",
            "zerolinecolor": "#C8D4E3"
           },
           "yaxis": {
            "backgroundcolor": "rgb(17,17,17)",
            "gridcolor": "#506784",
            "gridwidth": 2,
            "linecolor": "#506784",
            "showbackground": true,
            "ticks": "",
            "zerolinecolor": "#C8D4E3"
           },
           "zaxis": {
            "backgroundcolor": "rgb(17,17,17)",
            "gridcolor": "#506784",
            "gridwidth": 2,
            "linecolor": "#506784",
            "showbackground": true,
            "ticks": "",
            "zerolinecolor": "#C8D4E3"
           }
          },
          "shapedefaults": {
           "line": {
            "color": "#f2f5fa"
           }
          },
          "sliderdefaults": {
           "bgcolor": "#C8D4E3",
           "bordercolor": "rgb(17,17,17)",
           "borderwidth": 1,
           "tickwidth": 0
          },
          "ternary": {
           "aaxis": {
            "gridcolor": "#506784",
            "linecolor": "#506784",
            "ticks": ""
           },
           "baxis": {
            "gridcolor": "#506784",
            "linecolor": "#506784",
            "ticks": ""
           },
           "bgcolor": "rgb(17,17,17)",
           "caxis": {
            "gridcolor": "#506784",
            "linecolor": "#506784",
            "ticks": ""
           }
          },
          "title": {
           "x": 0.05
          },
          "updatemenudefaults": {
           "bgcolor": "#506784",
           "borderwidth": 0
          },
          "xaxis": {
           "automargin": true,
           "gridcolor": "#283442",
           "linecolor": "#506784",
           "ticks": "",
           "title": {
            "standoff": 15
           },
           "zerolinecolor": "#283442",
           "zerolinewidth": 2
          },
          "yaxis": {
           "automargin": true,
           "gridcolor": "#283442",
           "linecolor": "#506784",
           "ticks": "",
           "title": {
            "standoff": 15
           },
           "zerolinecolor": "#283442",
           "zerolinewidth": 2
          }
         }
        },
        "title": {
         "text": "Pick up hour=2024-11-30 00:00:00, location_id=110"
        },
        "xaxis": {
         "anchor": "y",
         "domain": [
          0,
          1
         ],
         "title": {
          "text": "x"
         }
        },
        "yaxis": {
         "anchor": "x",
         "domain": [
          0,
          1
         ],
         "title": {
          "text": "y"
         }
        }
       }
      }
     },
     "metadata": {},
     "output_type": "display_data"
    }
   ],
   "source": [
    "plot_one_sample(\n",
    "    features=X_test,\n",
    "    targets=y_test,\n",
    "    example_id=32085,\n",
    "    predictions=pd.Series(predictions)\n",
    ")"
   ]
  },
  {
   "cell_type": "code",
   "execution_count": null,
   "metadata": {},
   "outputs": [],
   "source": []
  }
 ],
 "metadata": {
  "kernelspec": {
   "display_name": "src-WfGCHEar-py3.12",
   "language": "python",
   "name": "python3"
  },
  "language_info": {
   "codemirror_mode": {
    "name": "ipython",
    "version": 3
   },
   "file_extension": ".py",
   "mimetype": "text/x-python",
   "name": "python",
   "nbconvert_exporter": "python",
   "pygments_lexer": "ipython3",
   "version": "3.12.5"
  }
 },
 "nbformat": 4,
 "nbformat_minor": 2
}
